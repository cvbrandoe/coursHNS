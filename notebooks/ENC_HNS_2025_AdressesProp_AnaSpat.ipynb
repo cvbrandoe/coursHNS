{
  "nbformat": 4,
  "nbformat_minor": 0,
  "metadata": {
    "colab": {
      "provenance": [],
      "collapsed_sections": [
        "kalEBaI5eGuV",
        "d9Dt-C7DoroF",
        "1FmoXoYwePaI",
        "1bpjCESVeWCF",
        "ZLaXCi0AQ74M",
        "qbUTr4X8wn3r",
        "nEXb1BjQwn9E",
        "whqRdOoUwn6d"
      ],
      "authorship_tag": "ABX9TyP/wAnvruYLhkMj3qVt2Ui1"
    },
    "kernelspec": {
      "name": "python3",
      "display_name": "Python 3"
    },
    "language_info": {
      "name": "python"
    }
  },
  "cells": [
    {
      "cell_type": "markdown",
      "source": [
        "# TP analyse spatiale\n",
        "Cours Humanités numériques spatialisées -\n",
        "Ecole nationale des Chartes\n",
        "\n",
        "Exploration des adresses (ponctuelles) de propriétaires de Paris en 1898 et 1951  "
      ],
      "metadata": {
        "id": "5tDfr1lgd_yE"
      }
    },
    {
      "cell_type": "markdown",
      "source": [
        "##Chargement des données"
      ],
      "metadata": {
        "id": "kalEBaI5eGuV"
      }
    },
    {
      "cell_type": "markdown",
      "source": [
        "Téléchargez les données à partir de ce lien (https://github.com/cvbrandoe/coursHNS/blob/main/data/Adresses_prop_AnalyseSpatiale.zip), décompressez-les et ajoutez-les dans votre environnement Google Colaboratory.\n",
        "\n",
        "N'oubliez pas d'adapter ci-dessous les chemins pour accéder aux fichiers."
      ],
      "metadata": {
        "id": "T7IYjkDsKcp1"
      }
    },
    {
      "cell_type": "code",
      "execution_count": null,
      "metadata": {
        "id": "STNx6p0B01qf"
      },
      "outputs": [],
      "source": [
        "import pandas as pd\n",
        "import geopandas as gpd\n",
        "import matplotlib.pyplot as plt\n",
        "from shapely.geometry import Point\n",
        "\n",
        "# Charger les données\n",
        "data_1898 = pd.read_csv('sample_data/1898_1_GeoHistorical_histogeoloc_prop.csv')\n",
        "data_1951 = pd.read_csv('sample_data/df_1951_geoGT_geoH_total_ss_geoloc_vide.csv')"
      ]
    },
    {
      "cell_type": "code",
      "source": [
        "len(data_1898)"
      ],
      "metadata": {
        "colab": {
          "base_uri": "https://localhost:8080/"
        },
        "id": "H3G-8INcYR0D",
        "outputId": "bb598956-19e7-469d-8e9d-0ec0fbecce1f"
      },
      "execution_count": null,
      "outputs": [
        {
          "output_type": "execute_result",
          "data": {
            "text/plain": [
              "14014"
            ]
          },
          "metadata": {},
          "execution_count": 64
        }
      ]
    },
    {
      "cell_type": "code",
      "source": [
        "len(data_1951)"
      ],
      "metadata": {
        "colab": {
          "base_uri": "https://localhost:8080/"
        },
        "id": "PNW3Qx2_YUPd",
        "outputId": "7494aabc-54c3-4601-dd56-b2be4910bcde"
      },
      "execution_count": null,
      "outputs": [
        {
          "output_type": "execute_result",
          "data": {
            "text/plain": [
              "99143"
            ]
          },
          "metadata": {},
          "execution_count": 65
        }
      ]
    },
    {
      "cell_type": "markdown",
      "source": [
        "##Verifications"
      ],
      "metadata": {
        "id": "d9Dt-C7DoroF"
      }
    },
    {
      "cell_type": "code",
      "source": [
        "import pandas as pd\n",
        "\n",
        "def data_checks(df, year, lat_col, lon_col, column_for_unique_values=None):\n",
        "    # Vérifier les lignes sans coordonnées\n",
        "    missing_coords = df[df[lat_col].isnull() | df[lon_col].isnull()]\n",
        "    num_missing_coords = missing_coords.shape[0]\n",
        "\n",
        "    # Compter les valeurs vides dans chaque colonne\n",
        "    missing_values = df.isnull().sum()\n",
        "\n",
        "    # Afficher les résultats\n",
        "    print(f\"--- Vérifications pour l'année {year} ---\")\n",
        "    print(f\"Nombre de lignes (total): {len(df)}\")\n",
        "    print(f\"Nombre de lignes sans coordonnées : {num_missing_coords}\")\n",
        "    print(\"\\nValeurs vides par colonne :\")\n",
        "    print(missing_values)\n",
        "\n",
        "    # Afficher les valeurs uniques si une colonne est spécifiée\n",
        "    if column_for_unique_values:\n",
        "        unique_values = df[column_for_unique_values].unique()\n",
        "        print(f\"\\nValeurs uniques pour la colonne '{column_for_unique_values}':\")\n",
        "        print(unique_values)\n",
        "\n",
        "    print(\"\\nAperçu des lignes sans coordonnées :\")\n",
        "    print(missing_coords.head())\n",
        "    print(\"\\n\")\n",
        "\n",
        "# Effectuer les vérifications pour chaque dataframe avec la possibilité d'afficher les valeurs uniques\n",
        "data_checks(data_1898, 1898, lat_col='y_prop', lon_col='x_prop', column_for_unique_values='proprio_name*')\n",
        "data_checks(data_1951, 1951, lat_col='lat_imm_geoH', lon_col='lng_imm_geoH', column_for_unique_values='nom_pers')\n"
      ],
      "metadata": {
        "colab": {
          "base_uri": "https://localhost:8080/"
        },
        "id": "BMTUNGbLn1xG",
        "outputId": "b78fd33d-bb91-46fa-dafb-ab5fa088bff3"
      },
      "execution_count": null,
      "outputs": [
        {
          "output_type": "stream",
          "name": "stdout",
          "text": [
            "--- Vérifications pour l'année 1898 ---\n",
            "Nombre de lignes (total): 14014\n",
            "Nombre de lignes sans coordonnées : 987\n",
            "\n",
            "Valeurs vides par colonne :\n",
            "index*                    0\n",
            "adresse                   0\n",
            "num                       0\n",
            "proprio[global]           0\n",
            "collectif             12507\n",
            "sexe                  11156\n",
            "statut_femme          11411\n",
            "proprio_titre*        13626\n",
            "proprio_particule*    13471\n",
            "proprio_name*             0\n",
            "proprio_ad                3\n",
            "proprio_numAd            85\n",
            "commune_propio         1112\n",
            "proprio_region*           0\n",
            "Pays                      0\n",
            "same_place*               0\n",
            "commentaire           14001\n",
            "x_prop                  987\n",
            "y_prop                  987\n",
            "source_prop             987\n",
            "url_prop                987\n",
            "dtype: int64\n",
            "\n",
            "Valeurs uniques pour la colonne 'proprio_name*':\n",
            "['La Guibourgère' 'Vallois' 'Michau et Douanne' ... 'Vangasse' 'Rousse'\n",
            " 'Hureau de Villeneuve']\n",
            "\n",
            "Aperçu des lignes sans coordonnées :\n",
            "     index*               adresse num  proprio[global] collectif sexe  \\\n",
            "194     195  passage des Abbesses   4     Doucet (Vve)       NaN    F   \n",
            "195     196  passage des Abbesses   6  Jousselin (Vve)       NaN    F   \n",
            "196     197  passage des Abbesses   8  Jousselin (Vve)       NaN    F   \n",
            "197     198  passage des Abbesses  10           Hamouy       NaN  NaN   \n",
            "198     199    place des Abbesses  14   Ville de Paris      Etat  NaN   \n",
            "\n",
            "    statut_femme proprio_titre* proprio_particule*   proprio_name*  ...  \\\n",
            "194        Veuve            NaN                NaN          Doucet  ...   \n",
            "195        Veuve            NaN                NaN       Jousselin  ...   \n",
            "196        Veuve            NaN                NaN       Jousselin  ...   \n",
            "197          NaN            NaN                NaN          Hamouy  ...   \n",
            "198          NaN            NaN                NaN  Ville de Paris  ...   \n",
            "\n",
            "    proprio_numAd commune_propio proprio_region*    Pays same_place*  \\\n",
            "194            51          Paris           Paris  France         non   \n",
            "195             6          Paris           Paris  France         oui   \n",
            "196             6          Paris           Paris  France         non   \n",
            "197       Etampes            NaN   Seine-et-Oise  France         non   \n",
            "198             0          Paris           Paris  France         non   \n",
            "\n",
            "    commentaire x_prop  y_prop  source_prop url_prop  \n",
            "194         NaN    NaN     NaN          NaN      NaN  \n",
            "195         NaN    NaN     NaN          NaN      NaN  \n",
            "196         NaN    NaN     NaN          NaN      NaN  \n",
            "197         NaN    NaN     NaN          NaN      NaN  \n",
            "198         NaN    NaN     NaN          NaN      NaN  \n",
            "\n",
            "[5 rows x 21 columns]\n",
            "\n",
            "\n",
            "--- Vérifications pour l'année 1951 ---\n",
            "Nombre de lignes (total): 99143\n",
            "Nombre de lignes sans coordonnées : 0\n",
            "\n",
            "Valeurs vides par colonne :\n",
            "Unnamed: 0.1                 0\n",
            "Unnamed: 0                   0\n",
            "__index_imm_geoGT__          0\n",
            "__index_pers__               0\n",
            "index_total                  0\n",
            "quartier_pers            65889\n",
            "quartier_imm              1109\n",
            "nom_pers                 28132\n",
            "prenom_pers              41466\n",
            "num_pers                  6183\n",
            "type_voie_pers            3939\n",
            "nom_voie_pers             4737\n",
            "arr_pers                 22440\n",
            "ville_pers               80935\n",
            "loc_pers                 74273\n",
            "nb_codes                     0\n",
            "nveaux_codes                 0\n",
            "code                         0\n",
            "code_voie_imm                0\n",
            "liste_nums_imm               0\n",
            "nb_nums_imm                  0\n",
            "nb_imms                      0\n",
            "num_imm                      0\n",
            "type_voie_imm                0\n",
            "nom_voie_imm                 0\n",
            "arrs_imm                     0\n",
            "lat_imm_geoGT                0\n",
            "lng_imm_geoGT                0\n",
            "result_type_imm_geoGT        0\n",
            "result_city_imm_geoGT        0\n",
            "date                         0\n",
            "url_geoH                     0\n",
            "code_geoH_imm                0\n",
            "coord_geoH_imm               0\n",
            "source_geoH_imm              0\n",
            "lng_imm_geoH                 0\n",
            "lat_imm_geoH                 0\n",
            "distance_km                  0\n",
            "dtype: int64\n",
            "\n",
            "Valeurs uniques pour la colonne 'nom_pers':\n",
            "['Aaron' 'Abada' 'Abadie' ... 'Zuylen' 'Zwalhaz' 'Zwiller']\n",
            "\n",
            "Aperçu des lignes sans coordonnées :\n",
            "Empty DataFrame\n",
            "Columns: [Unnamed: 0.1, Unnamed: 0, __index_imm_geoGT__, __index_pers__, index_total, quartier_pers, quartier_imm, nom_pers, prenom_pers, num_pers, type_voie_pers, nom_voie_pers, arr_pers, ville_pers, loc_pers, nb_codes, nveaux_codes, code, code_voie_imm, liste_nums_imm, nb_nums_imm, nb_imms, num_imm, type_voie_imm, nom_voie_imm, arrs_imm, lat_imm_geoGT, lng_imm_geoGT, result_type_imm_geoGT, result_city_imm_geoGT, date, url_geoH, code_geoH_imm, coord_geoH_imm, source_geoH_imm, lng_imm_geoH, lat_imm_geoH, distance_km]\n",
            "Index: []\n",
            "\n",
            "[0 rows x 38 columns]\n",
            "\n",
            "\n"
          ]
        }
      ]
    },
    {
      "cell_type": "markdown",
      "source": [
        "##Filtres et conversions"
      ],
      "metadata": {
        "id": "1FmoXoYwePaI"
      }
    },
    {
      "cell_type": "markdown",
      "source": [
        "Pour avoir des jeux des données plus comparables en taille (attention au mode d'échantillonage)"
      ],
      "metadata": {
        "id": "2oBQPfsuLuWv"
      }
    },
    {
      "cell_type": "code",
      "source": [
        "data_1951_sampled = data_1951.sample(frac=0.14, random_state=42)"
      ],
      "metadata": {
        "id": "B-fvB5OcYYSt"
      },
      "execution_count": null,
      "outputs": []
    },
    {
      "cell_type": "code",
      "source": [
        "len(data_1951_sampled)"
      ],
      "metadata": {
        "colab": {
          "base_uri": "https://localhost:8080/"
        },
        "id": "LQjUYPiLYfAA",
        "outputId": "be23103c-a15f-406e-b071-f6899ce475d5"
      },
      "execution_count": null,
      "outputs": [
        {
          "output_type": "execute_result",
          "data": {
            "text/plain": [
              "13880"
            ]
          },
          "metadata": {},
          "execution_count": 68
        }
      ]
    },
    {
      "cell_type": "markdown",
      "source": [
        "Ignorer les lignes sans coordonnées pour la suite"
      ],
      "metadata": {
        "id": "fxlGcPHMpuNl"
      }
    },
    {
      "cell_type": "code",
      "source": [
        "data_1898_cleaned = data_1898.dropna(subset=['y_prop', 'x_prop'])\n",
        "len(data_1898_cleaned)"
      ],
      "metadata": {
        "colab": {
          "base_uri": "https://localhost:8080/"
        },
        "id": "D9N1dav8piNU",
        "outputId": "263361d0-8d04-45a8-cfe8-00d0455fb15b"
      },
      "execution_count": null,
      "outputs": [
        {
          "output_type": "execute_result",
          "data": {
            "text/plain": [
              "13027"
            ]
          },
          "metadata": {},
          "execution_count": 69
        }
      ]
    },
    {
      "cell_type": "markdown",
      "source": [
        "Conversion en GeoDataFrame\n"
      ],
      "metadata": {
        "id": "KucJIn0lpr3X"
      }
    },
    {
      "cell_type": "code",
      "source": [
        "# Conversion des adresses en GeoDataFrame\n",
        "def convert_to_geodataframe(df, lon_col, lat_col, crs):\n",
        "    df['geometry'] = df.apply(lambda row: Point(row[lon_col], row[lat_col]), axis=1)\n",
        "    return gpd.GeoDataFrame(df, geometry='geometry', crs=crs)\n",
        "\n",
        "# Convertir les deux datasets\n",
        "# 1898 est en CRS 2154\n",
        "gdf_1898 = convert_to_geodataframe(data_1898_cleaned, lon_col='x_prop', lat_col='y_prop', crs=\"EPSG:2154\")\n",
        "# Conversion en CRS 4326\n",
        "gdf_1898 = gdf_1898.to_crs(\"EPSG:4326\")\n",
        "\n",
        "# 1951 est déjà en CRS 4326\n",
        "gdf_1951 = convert_to_geodataframe(data_1951_sampled, lon_col='lng_imm_geoH', lat_col='lat_imm_geoH', crs=\"EPSG:4326\")\n",
        "\n",
        "# Visualisation simple\n",
        "fig, ax = plt.subplots(1, 2, figsize=(12, 6))\n",
        "\n",
        "gdf_1898.plot(ax=ax[0], color='blue', markersize=5)\n",
        "ax[0].set_title('Adresses en 1898 (CRS 4326 après conversion)')\n",
        "\n",
        "gdf_1951.plot(ax=ax[1], color='red', markersize=5)\n",
        "ax[1].set_title('Adresses en 1951')\n",
        "\n",
        "plt.tight_layout()\n",
        "plt.show()\n"
      ],
      "metadata": {
        "colab": {
          "base_uri": "https://localhost:8080/",
          "height": 449
        },
        "id": "P9Vlumr1nTlm",
        "outputId": "9743e4ae-ac89-4e56-93ec-36e9af838d53"
      },
      "execution_count": null,
      "outputs": [
        {
          "output_type": "stream",
          "name": "stderr",
          "text": [
            "<ipython-input-70-648e130a48b1>:3: SettingWithCopyWarning: \n",
            "A value is trying to be set on a copy of a slice from a DataFrame.\n",
            "Try using .loc[row_indexer,col_indexer] = value instead\n",
            "\n",
            "See the caveats in the documentation: https://pandas.pydata.org/pandas-docs/stable/user_guide/indexing.html#returning-a-view-versus-a-copy\n",
            "  df['geometry'] = df.apply(lambda row: Point(row[lon_col], row[lat_col]), axis=1)\n"
          ]
        },
        {
          "output_type": "display_data",
          "data": {
            "text/plain": [
              "<Figure size 1200x600 with 2 Axes>"
            ],
            "image/png": "[encoded data removed]"
          },
          "metadata": {}
        }
      ]
    },
    {
      "cell_type": "code",
      "source": [
        "gdf_1951"
      ],
      "metadata": {
        "colab": {
          "base_uri": "https://localhost:8080/",
          "height": 808
        },
        "id": "nUzpPflwYU_u",
        "outputId": "06b30f87-24e9-49b4-c813-c680d62ecdce"
      },
      "execution_count": null,
      "outputs": [
        {
          "output_type": "execute_result",
          "data": {
            "text/plain": [
              "       Unnamed: 0.1  Unnamed: 0  __index_imm_geoGT__  __index_pers__  \\\n",
              "79568         79568       79568                86149           45225   \n",
              "84895         84895       84895                91871           47827   \n",
              "26688         26688       26688                28898           15219   \n",
              "40468         40468       40468                43807           22812   \n",
              "83379         83379       83379                90240           47132   \n",
              "...             ...         ...                  ...             ...   \n",
              "80188         80188       80188                86802           45412   \n",
              "31267         31267       31267                33848           17747   \n",
              "80580         80580       80580                87218           45576   \n",
              "73430         73430       73430                79532           41733   \n",
              "43733         43733       43733                47347           24876   \n",
              "\n",
              "       index_total  quartier_pers  quartier_imm    nom_pers prenom_pers  \\\n",
              "79568        45225           46.0          31.0         NaN         NaN   \n",
              "84895        47827           27.0          58.0         NaN         NaN   \n",
              "26688        15219            NaN          34.0  Destureaux        (P.)   \n",
              "40468        22812            NaN          36.0  Grosfiilex         NaN   \n",
              "83379        47132           62.0          13.0         NaN         NaN   \n",
              "...            ...            ...           ...         ...         ...   \n",
              "80188        45412            NaN          49.0         NaN         NaN   \n",
              "31267        17747            NaN          66.0      Evrard  (Maurice).   \n",
              "80580        45576           20.0          20.0         NaN         NaN   \n",
              "73430        41733           50.0          50.0     Richard  (Alphonse)   \n",
              "43733        24876           25.0          77.0     Houdart         NaN   \n",
              "\n",
              "      num_pers  ... result_city_imm_geoGT  date  \\\n",
              "79568       37  ...                 Paris  1951   \n",
              "84895       17  ...                 Paris  1951   \n",
              "26688      NaN  ...                 Paris  1951   \n",
              "40468        9  ...                 Paris  1951   \n",
              "83379       24  ...                 Paris  1951   \n",
              "...        ...  ...                   ...   ...   \n",
              "80188        4  ...                 Paris  1951   \n",
              "31267       51  ...                 Paris  1951   \n",
              "80580        3  ...                 Paris  1951   \n",
              "73430       44  ...                 Paris  1951   \n",
              "43733  203 bis  ...                 Paris  1951   \n",
              "\n",
              "                                                url_geoH code_geoH_imm  \\\n",
              "79568  http://api.geohistoricaldata.org/geocoding?add...         200.0   \n",
              "84895  http://api.geohistoricaldata.org/geocoding?add...         200.0   \n",
              "26688  http://api.geohistoricaldata.org/geocoding?add...         200.0   \n",
              "40468  http://api.geohistoricaldata.org/geocoding?add...         200.0   \n",
              "83379  http://api.geohistoricaldata.org/geocoding?add...         200.0   \n",
              "...                                                  ...           ...   \n",
              "80188  http://api.geohistoricaldata.org/geocoding?add...         200.0   \n",
              "31267  http://api.geohistoricaldata.org/geocoding?add...         200.0   \n",
              "80580  http://api.geohistoricaldata.org/geocoding?add...         200.0   \n",
              "73430  http://api.geohistoricaldata.org/geocoding?add...         200.0   \n",
              "43733  http://api.geohistoricaldata.org/geocoding?add...         200.0   \n",
              "\n",
              "                    coord_geoH_imm           source_geoH_imm lng_imm_geoH  \\\n",
              "79568   [2.32010053, 48.871068175]  poubelle_municipal_paris     2.320101   \n",
              "84895  [2.309280007, 48.849058424]  poubelle_municipal_paris     2.309280   \n",
              "26688  [2.335145967, 48.874172673]  poubelle_municipal_paris     2.335146   \n",
              "40468  [2.347606376, 48.879477161]  poubelle_municipal_paris     2.347606   \n",
              "83379      [2.3485453, 48.8572818]                 osm_paris     2.348545   \n",
              "...                            ...                       ...          ...   \n",
              "80188       [2.3554749, 48.833693]                 osm_paris     2.355475   \n",
              "31267  [2.304583582, 48.886566352]  poubelle_municipal_paris     2.304584   \n",
              "80580      [2.3484203, 48.8491615]                 osm_paris     2.348420   \n",
              "73430   [2.373960634, 48.82718657]  poubelle_municipal_paris     2.373961   \n",
              "43733        [2.389638, 48.874277]                 osm_paris     2.389638   \n",
              "\n",
              "      lat_imm_geoH  distance_km                  geometry  \n",
              "79568    48.871068     0.083009   POINT (2.3201 48.87107)  \n",
              "84895    48.849058     0.322819  POINT (2.30928 48.84906)  \n",
              "26688    48.874173     0.013666  POINT (2.33515 48.87417)  \n",
              "40468    48.879477     0.024523  POINT (2.34761 48.87948)  \n",
              "83379    48.857282     0.014295  POINT (2.34855 48.85728)  \n",
              "...            ...          ...                       ...  \n",
              "80188    48.833693     0.001351  POINT (2.35547 48.83369)  \n",
              "31267    48.886566     0.016050  POINT (2.30458 48.88657)  \n",
              "80580    48.849162     0.001061  POINT (2.34842 48.84916)  \n",
              "73430    48.827187     0.022607  POINT (2.37396 48.82719)  \n",
              "43733    48.874277     0.071411  POINT (2.38964 48.87428)  \n",
              "\n",
              "[13880 rows x 39 columns]"
            ],
            "text/html": [
              "\n",
              "  <div id=\"df-ac0faa92-c4f2-4bc6-922d-ae8bd16246bc\" class=\"colab-df-container\">\n",
              "    <div>\n",
              "<style scoped>\n",
              "    .dataframe tbody tr th:only-of-type {\n",
              "        vertical-align: middle;\n",
              "    }\n",
              "\n",
              "    .dataframe tbody tr th {\n",
              "        vertical-align: top;\n",
              "    }\n",
              "\n",
              "    .dataframe thead th {\n",
              "        text-align: right;\n",
              "    }\n",
              "</style>\n",
              "<table border=\"1\" class=\"dataframe\">\n",
              "  <thead>\n",
              "    <tr style=\"text-align: right;\">\n",
              "      <th></th>\n",
              "      <th>Unnamed: 0.1</th>\n",
              "      <th>Unnamed: 0</th>\n",
              "      <th>__index_imm_geoGT__</th>\n",
              "      <th>__index_pers__</th>\n",
              "      <th>index_total</th>\n",
              "      <th>quartier_pers</th>\n",
              "      <th>quartier_imm</th>\n",
              "      <th>nom_pers</th>\n",
              "      <th>prenom_pers</th>\n",
              "      <th>num_pers</th>\n",
              "      <th>...</th>\n",
              "      <th>result_city_imm_geoGT</th>\n",
              "      <th>date</th>\n",
              "      <th>url_geoH</th>\n",
              "      <th>code_geoH_imm</th>\n",
              "      <th>coord_geoH_imm</th>\n",
              "      <th>source_geoH_imm</th>\n",
              "      <th>lng_imm_geoH</th>\n",
              "      <th>lat_imm_geoH</th>\n",
              "      <th>distance_km</th>\n",
              "      <th>geometry</th>\n",
              "    </tr>\n",
              "  </thead>\n",
              "  <tbody>\n",
              "    <tr>\n",
              "      <th>79568</th>\n",
              "      <td>79568</td>\n",
              "      <td>79568</td>\n",
              "      <td>86149</td>\n",
              "      <td>45225</td>\n",
              "      <td>45225</td>\n",
              "      <td>46.0</td>\n",
              "      <td>31.0</td>\n",
              "      <td>NaN</td>\n",
              "      <td>NaN</td>\n",
              "      <td>37</td>\n",
              "      <td>...</td>\n",
              "      <td>Paris</td>\n",
              "      <td>1951</td>\n",
              "      <td>http://api.geohistoricaldata.org/geocoding?add...</td>\n",
              "      <td>200.0</td>\n",
              "      <td>[2.32010053, 48.871068175]</td>\n",
              "      <td>poubelle_municipal_paris</td>\n",
              "      <td>2.320101</td>\n",
              "      <td>48.871068</td>\n",
              "      <td>0.083009</td>\n",
              "      <td>POINT (2.3201 48.87107)</td>\n",
              "    </tr>\n",
              "    <tr>\n",
              "      <th>84895</th>\n",
              "      <td>84895</td>\n",
              "      <td>84895</td>\n",
              "      <td>91871</td>\n",
              "      <td>47827</td>\n",
              "      <td>47827</td>\n",
              "      <td>27.0</td>\n",
              "      <td>58.0</td>\n",
              "      <td>NaN</td>\n",
              "      <td>NaN</td>\n",
              "      <td>17</td>\n",
              "      <td>...</td>\n",
              "      <td>Paris</td>\n",
              "      <td>1951</td>\n",
              "      <td>http://api.geohistoricaldata.org/geocoding?add...</td>\n",
              "      <td>200.0</td>\n",
              "      <td>[2.309280007, 48.849058424]</td>\n",
              "      <td>poubelle_municipal_paris</td>\n",
              "      <td>2.309280</td>\n",
              "      <td>48.849058</td>\n",
              "      <td>0.322819</td>\n",
              "      <td>POINT (2.30928 48.84906)</td>\n",
              "    </tr>\n",
              "    <tr>\n",
              "      <th>26688</th>\n",
              "      <td>26688</td>\n",
              "      <td>26688</td>\n",
              "      <td>28898</td>\n",
              "      <td>15219</td>\n",
              "      <td>15219</td>\n",
              "      <td>NaN</td>\n",
              "      <td>34.0</td>\n",
              "      <td>Destureaux</td>\n",
              "      <td>(P.)</td>\n",
              "      <td>NaN</td>\n",
              "      <td>...</td>\n",
              "      <td>Paris</td>\n",
              "      <td>1951</td>\n",
              "      <td>http://api.geohistoricaldata.org/geocoding?add...</td>\n",
              "      <td>200.0</td>\n",
              "      <td>[2.335145967, 48.874172673]</td>\n",
              "      <td>poubelle_municipal_paris</td>\n",
              "      <td>2.335146</td>\n",
              "      <td>48.874173</td>\n",
              "      <td>0.013666</td>\n",
              "      <td>POINT (2.33515 48.87417)</td>\n",
              "    </tr>\n",
              "    <tr>\n",
              "      <th>40468</th>\n",
              "      <td>40468</td>\n",
              "      <td>40468</td>\n",
              "      <td>43807</td>\n",
              "      <td>22812</td>\n",
              "      <td>22812</td>\n",
              "      <td>NaN</td>\n",
              "      <td>36.0</td>\n",
              "      <td>Grosfiilex</td>\n",
              "      <td>NaN</td>\n",
              "      <td>9</td>\n",
              "      <td>...</td>\n",
              "      <td>Paris</td>\n",
              "      <td>1951</td>\n",
              "      <td>http://api.geohistoricaldata.org/geocoding?add...</td>\n",
              "      <td>200.0</td>\n",
              "      <td>[2.347606376, 48.879477161]</td>\n",
              "      <td>poubelle_municipal_paris</td>\n",
              "      <td>2.347606</td>\n",
              "      <td>48.879477</td>\n",
              "      <td>0.024523</td>\n",
              "      <td>POINT (2.34761 48.87948)</td>\n",
              "    </tr>\n",
              "    <tr>\n",
              "      <th>83379</th>\n",
              "      <td>83379</td>\n",
              "      <td>83379</td>\n",
              "      <td>90240</td>\n",
              "      <td>47132</td>\n",
              "      <td>47132</td>\n",
              "      <td>62.0</td>\n",
              "      <td>13.0</td>\n",
              "      <td>NaN</td>\n",
              "      <td>NaN</td>\n",
              "      <td>24</td>\n",
              "      <td>...</td>\n",
              "      <td>Paris</td>\n",
              "      <td>1951</td>\n",
              "      <td>http://api.geohistoricaldata.org/geocoding?add...</td>\n",
              "      <td>200.0</td>\n",
              "      <td>[2.3485453, 48.8572818]</td>\n",
              "      <td>osm_paris</td>\n",
              "      <td>2.348545</td>\n",
              "      <td>48.857282</td>\n",
              "      <td>0.014295</td>\n",
              "      <td>POINT (2.34855 48.85728)</td>\n",
              "    </tr>\n",
              "    <tr>\n",
              "      <th>...</th>\n",
              "      <td>...</td>\n",
              "      <td>...</td>\n",
              "      <td>...</td>\n",
              "      <td>...</td>\n",
              "      <td>...</td>\n",
              "      <td>...</td>\n",
              "      <td>...</td>\n",
              "      <td>...</td>\n",
              "      <td>...</td>\n",
              "      <td>...</td>\n",
              "      <td>...</td>\n",
              "      <td>...</td>\n",
              "      <td>...</td>\n",
              "      <td>...</td>\n",
              "      <td>...</td>\n",
              "      <td>...</td>\n",
              "      <td>...</td>\n",
              "      <td>...</td>\n",
              "      <td>...</td>\n",
              "      <td>...</td>\n",
              "      <td>...</td>\n",
              "    </tr>\n",
              "    <tr>\n",
              "      <th>80188</th>\n",
              "      <td>80188</td>\n",
              "      <td>80188</td>\n",
              "      <td>86802</td>\n",
              "      <td>45412</td>\n",
              "      <td>45412</td>\n",
              "      <td>NaN</td>\n",
              "      <td>49.0</td>\n",
              "      <td>NaN</td>\n",
              "      <td>NaN</td>\n",
              "      <td>4</td>\n",
              "      <td>...</td>\n",
              "      <td>Paris</td>\n",
              "      <td>1951</td>\n",
              "      <td>http://api.geohistoricaldata.org/geocoding?add...</td>\n",
              "      <td>200.0</td>\n",
              "      <td>[2.3554749, 48.833693]</td>\n",
              "      <td>osm_paris</td>\n",
              "      <td>2.355475</td>\n",
              "      <td>48.833693</td>\n",
              "      <td>0.001351</td>\n",
              "      <td>POINT (2.35547 48.83369)</td>\n",
              "    </tr>\n",
              "    <tr>\n",
              "      <th>31267</th>\n",
              "      <td>31267</td>\n",
              "      <td>31267</td>\n",
              "      <td>33848</td>\n",
              "      <td>17747</td>\n",
              "      <td>17747</td>\n",
              "      <td>NaN</td>\n",
              "      <td>66.0</td>\n",
              "      <td>Evrard</td>\n",
              "      <td>(Maurice).</td>\n",
              "      <td>51</td>\n",
              "      <td>...</td>\n",
              "      <td>Paris</td>\n",
              "      <td>1951</td>\n",
              "      <td>http://api.geohistoricaldata.org/geocoding?add...</td>\n",
              "      <td>200.0</td>\n",
              "      <td>[2.304583582, 48.886566352]</td>\n",
              "      <td>poubelle_municipal_paris</td>\n",
              "      <td>2.304584</td>\n",
              "      <td>48.886566</td>\n",
              "      <td>0.016050</td>\n",
              "      <td>POINT (2.30458 48.88657)</td>\n",
              "    </tr>\n",
              "    <tr>\n",
              "      <th>80580</th>\n",
              "      <td>80580</td>\n",
              "      <td>80580</td>\n",
              "      <td>87218</td>\n",
              "      <td>45576</td>\n",
              "      <td>45576</td>\n",
              "      <td>20.0</td>\n",
              "      <td>20.0</td>\n",
              "      <td>NaN</td>\n",
              "      <td>NaN</td>\n",
              "      <td>3</td>\n",
              "      <td>...</td>\n",
              "      <td>Paris</td>\n",
              "      <td>1951</td>\n",
              "      <td>http://api.geohistoricaldata.org/geocoding?add...</td>\n",
              "      <td>200.0</td>\n",
              "      <td>[2.3484203, 48.8491615]</td>\n",
              "      <td>osm_paris</td>\n",
              "      <td>2.348420</td>\n",
              "      <td>48.849162</td>\n",
              "      <td>0.001061</td>\n",
              "      <td>POINT (2.34842 48.84916)</td>\n",
              "    </tr>\n",
              "    <tr>\n",
              "      <th>73430</th>\n",
              "      <td>73430</td>\n",
              "      <td>73430</td>\n",
              "      <td>79532</td>\n",
              "      <td>41733</td>\n",
              "      <td>41733</td>\n",
              "      <td>50.0</td>\n",
              "      <td>50.0</td>\n",
              "      <td>Richard</td>\n",
              "      <td>(Alphonse)</td>\n",
              "      <td>44</td>\n",
              "      <td>...</td>\n",
              "      <td>Paris</td>\n",
              "      <td>1951</td>\n",
              "      <td>http://api.geohistoricaldata.org/geocoding?add...</td>\n",
              "      <td>200.0</td>\n",
              "      <td>[2.373960634, 48.82718657]</td>\n",
              "      <td>poubelle_municipal_paris</td>\n",
              "      <td>2.373961</td>\n",
              "      <td>48.827187</td>\n",
              "      <td>0.022607</td>\n",
              "      <td>POINT (2.37396 48.82719)</td>\n",
              "    </tr>\n",
              "    <tr>\n",
              "      <th>43733</th>\n",
              "      <td>43733</td>\n",
              "      <td>43733</td>\n",
              "      <td>47347</td>\n",
              "      <td>24876</td>\n",
              "      <td>24876</td>\n",
              "      <td>25.0</td>\n",
              "      <td>77.0</td>\n",
              "      <td>Houdart</td>\n",
              "      <td>NaN</td>\n",
              "      <td>203 bis</td>\n",
              "      <td>...</td>\n",
              "      <td>Paris</td>\n",
              "      <td>1951</td>\n",
              "      <td>http://api.geohistoricaldata.org/geocoding?add...</td>\n",
              "      <td>200.0</td>\n",
              "      <td>[2.389638, 48.874277]</td>\n",
              "      <td>osm_paris</td>\n",
              "      <td>2.389638</td>\n",
              "      <td>48.874277</td>\n",
              "      <td>0.071411</td>\n",
              "      <td>POINT (2.38964 48.87428)</td>\n",
              "    </tr>\n",
              "  </tbody>\n",
              "</table>\n",
              "<p>13880 rows × 39 columns</p>\n",
              "</div>\n",
              "    <div class=\"colab-df-buttons\">\n",
              "\n",
              "  <div class=\"colab-df-container\">\n",
              "    <button class=\"colab-df-convert\" onclick=\"convertToInteractive('df-ac0faa92-c4f2-4bc6-922d-ae8bd16246bc')\"\n",
              "            title=\"Convert this dataframe to an interactive table.\"\n",
              "            style=\"display:none;\">\n",
              "\n",
              "  <svg xmlns=\"http://www.w3.org/2000/svg\" height=\"24px\" viewBox=\"0 -960 960 960\">\n",
              "    <path d=\"M120-120v-720h720v720H120Zm60-500h600v-160H180v160Zm220 220h160v-160H400v160Zm0 220h160v-160H400v160ZM180-400h160v-160H180v160Zm440 0h160v-160H620v160ZM180-180h160v-160H180v160Zm440 0h160v-160H620v160Z\"/>\n",
              "  </svg>\n",
              "    </button>\n",
              "\n",
              "  <style>\n",
              "    .colab-df-container {\n",
              "      display:flex;\n",
              "      gap: 12px;\n",
              "    }\n",
              "\n",
              "    .colab-df-convert {\n",
              "      background-color: #E8F0FE;\n",
              "      border: none;\n",
              "      border-radius: 50%;\n",
              "      cursor: pointer;\n",
              "      display: none;\n",
              "      fill: #1967D2;\n",
              "      height: 32px;\n",
              "      padding: 0 0 0 0;\n",
              "      width: 32px;\n",
              "    }\n",
              "\n",
              "    .colab-df-convert:hover {\n",
              "      background-color: #E2EBFA;\n",
              "      box-shadow: 0px 1px 2px rgba(60, 64, 67, 0.3), 0px 1px 3px 1px rgba(60, 64, 67, 0.15);\n",
              "      fill: #174EA6;\n",
              "    }\n",
              "\n",
              "    .colab-df-buttons div {\n",
              "      margin-bottom: 4px;\n",
              "    }\n",
              "\n",
              "    [theme=dark] .colab-df-convert {\n",
              "      background-color: #3B4455;\n",
              "      fill: #D2E3FC;\n",
              "    }\n",
              "\n",
              "    [theme=dark] .colab-df-convert:hover {\n",
              "      background-color: #434B5C;\n",
              "      box-shadow: 0px 1px 3px 1px rgba(0, 0, 0, 0.15);\n",
              "      filter: drop-shadow(0px 1px 2px rgba(0, 0, 0, 0.3));\n",
              "      fill: #FFFFFF;\n",
              "    }\n",
              "  </style>\n",
              "\n",
              "    <script>\n",
              "      const buttonEl =\n",
              "        document.querySelector('#df-ac0faa92-c4f2-4bc6-922d-ae8bd16246bc button.colab-df-convert');\n",
              "      buttonEl.style.display =\n",
              "        google.colab.kernel.accessAllowed ? 'block' : 'none';\n",
              "\n",
              "      async function convertToInteractive(key) {\n",
              "        const element = document.querySelector('#df-ac0faa92-c4f2-4bc6-922d-ae8bd16246bc');\n",
              "        const dataTable =\n",
              "          await google.colab.kernel.invokeFunction('convertToInteractive',\n",
              "                                                    [key], {});\n",
              "        if (!dataTable) return;\n",
              "\n",
              "        const docLinkHtml = 'Like what you see? Visit the ' +\n",
              "          '<a target=\"_blank\" href=https://colab.research.google.com/notebooks/data_table.ipynb>data table notebook</a>'\n",
              "          + ' to learn more about interactive tables.';\n",
              "        element.innerHTML = '';\n",
              "        dataTable['output_type'] = 'display_data';\n",
              "        await google.colab.output.renderOutput(dataTable, element);\n",
              "        const docLink = document.createElement('div');\n",
              "        docLink.innerHTML = docLinkHtml;\n",
              "        element.appendChild(docLink);\n",
              "      }\n",
              "    </script>\n",
              "  </div>\n",
              "\n",
              "\n",
              "<div id=\"df-f0171491-d912-4f3d-9834-caa119b37441\">\n",
              "  <button class=\"colab-df-quickchart\" onclick=\"quickchart('df-f0171491-d912-4f3d-9834-caa119b37441')\"\n",
              "            title=\"Suggest charts\"\n",
              "            style=\"display:none;\">\n",
              "\n",
              "<svg xmlns=\"http://www.w3.org/2000/svg\" height=\"24px\"viewBox=\"0 0 24 24\"\n",
              "     width=\"24px\">\n",
              "    <g>\n",
              "        <path d=\"M19 3H5c-1.1 0-2 .9-2 2v14c0 1.1.9 2 2 2h14c1.1 0 2-.9 2-2V5c0-1.1-.9-2-2-2zM9 17H7v-7h2v7zm4 0h-2V7h2v10zm4 0h-2v-4h2v4z\"/>\n",
              "    </g>\n",
              "</svg>\n",
              "  </button>\n",
              "\n",
              "<style>\n",
              "  .colab-df-quickchart {\n",
              "      --bg-color: #E8F0FE;\n",
              "      --fill-color: #1967D2;\n",
              "      --hover-bg-color: #E2EBFA;\n",
              "      --hover-fill-color: #174EA6;\n",
              "      --disabled-fill-color: #AAA;\n",
              "      --disabled-bg-color: #DDD;\n",
              "  }\n",
              "\n",
              "  [theme=dark] .colab-df-quickchart {\n",
              "      --bg-color: #3B4455;\n",
              "      --fill-color: #D2E3FC;\n",
              "      --hover-bg-color: #434B5C;\n",
              "      --hover-fill-color: #FFFFFF;\n",
              "      --disabled-bg-color: #3B4455;\n",
              "      --disabled-fill-color: #666;\n",
              "  }\n",
              "\n",
              "  .colab-df-quickchart {\n",
              "    background-color: var(--bg-color);\n",
              "    border: none;\n",
              "    border-radius: 50%;\n",
              "    cursor: pointer;\n",
              "    display: none;\n",
              "    fill: var(--fill-color);\n",
              "    height: 32px;\n",
              "    padding: 0;\n",
              "    width: 32px;\n",
              "  }\n",
              "\n",
              "  .colab-df-quickchart:hover {\n",
              "    background-color: var(--hover-bg-color);\n",
              "    box-shadow: 0 1px 2px rgba(60, 64, 67, 0.3), 0 1px 3px 1px rgba(60, 64, 67, 0.15);\n",
              "    fill: var(--button-hover-fill-color);\n",
              "  }\n",
              "\n",
              "  .colab-df-quickchart-complete:disabled,\n",
              "  .colab-df-quickchart-complete:disabled:hover {\n",
              "    background-color: var(--disabled-bg-color);\n",
              "    fill: var(--disabled-fill-color);\n",
              "    box-shadow: none;\n",
              "  }\n",
              "\n",
              "  .colab-df-spinner {\n",
              "    border: 2px solid var(--fill-color);\n",
              "    border-color: transparent;\n",
              "    border-bottom-color: var(--fill-color);\n",
              "    animation:\n",
              "      spin 1s steps(1) infinite;\n",
              "  }\n",
              "\n",
              "  @keyframes spin {\n",
              "    0% {\n",
              "      border-color: transparent;\n",
              "      border-bottom-color: var(--fill-color);\n",
              "      border-left-color: var(--fill-color);\n",
              "    }\n",
              "    20% {\n",
              "      border-color: transparent;\n",
              "      border-left-color: var(--fill-color);\n",
              "      border-top-color: var(--fill-color);\n",
              "    }\n",
              "    30% {\n",
              "      border-color: transparent;\n",
              "      border-left-color: var(--fill-color);\n",
              "      border-top-color: var(--fill-color);\n",
              "      border-right-color: var(--fill-color);\n",
              "    }\n",
              "    40% {\n",
              "      border-color: transparent;\n",
              "      border-right-color: var(--fill-color);\n",
              "      border-top-color: var(--fill-color);\n",
              "    }\n",
              "    60% {\n",
              "      border-color: transparent;\n",
              "      border-right-color: var(--fill-color);\n",
              "    }\n",
              "    80% {\n",
              "      border-color: transparent;\n",
              "      border-right-color: var(--fill-color);\n",
              "      border-bottom-color: var(--fill-color);\n",
              "    }\n",
              "    90% {\n",
              "      border-color: transparent;\n",
              "      border-bottom-color: var(--fill-color);\n",
              "    }\n",
              "  }\n",
              "</style>\n",
              "\n",
              "  <script>\n",
              "    async function quickchart(key) {\n",
              "      const quickchartButtonEl =\n",
              "        document.querySelector('#' + key + ' button');\n",
              "      quickchartButtonEl.disabled = true;  // To prevent multiple clicks.\n",
              "      quickchartButtonEl.classList.add('colab-df-spinner');\n",
              "      try {\n",
              "        const charts = await google.colab.kernel.invokeFunction(\n",
              "            'suggestCharts', [key], {});\n",
              "      } catch (error) {\n",
              "        console.error('Error during call to suggestCharts:', error);\n",
              "      }\n",
              "      quickchartButtonEl.classList.remove('colab-df-spinner');\n",
              "      quickchartButtonEl.classList.add('colab-df-quickchart-complete');\n",
              "    }\n",
              "    (() => {\n",
              "      let quickchartButtonEl =\n",
              "        document.querySelector('#df-f0171491-d912-4f3d-9834-caa119b37441 button');\n",
              "      quickchartButtonEl.style.display =\n",
              "        google.colab.kernel.accessAllowed ? 'block' : 'none';\n",
              "    })();\n",
              "  </script>\n",
              "</div>\n",
              "\n",
              "  <div id=\"id_85c8782c-6781-4198-a282-8de63d608aa3\">\n",
              "    <style>\n",
              "      .colab-df-generate {\n",
              "        background-color: #E8F0FE;\n",
              "        border: none;\n",
              "        border-radius: 50%;\n",
              "        cursor: pointer;\n",
              "        display: none;\n",
              "        fill: #1967D2;\n",
              "        height: 32px;\n",
              "        padding: 0 0 0 0;\n",
              "        width: 32px;\n",
              "      }\n",
              "\n",
              "      .colab-df-generate:hover {\n",
              "        background-color: #E2EBFA;\n",
              "        box-shadow: 0px 1px 2px rgba(60, 64, 67, 0.3), 0px 1px 3px 1px rgba(60, 64, 67, 0.15);\n",
              "        fill: #174EA6;\n",
              "      }\n",
              "\n",
              "      [theme=dark] .colab-df-generate {\n",
              "        background-color: #3B4455;\n",
              "        fill: #D2E3FC;\n",
              "      }\n",
              "\n",
              "      [theme=dark] .colab-df-generate:hover {\n",
              "        background-color: #434B5C;\n",
              "        box-shadow: 0px 1px 3px 1px rgba(0, 0, 0, 0.15);\n",
              "        filter: drop-shadow(0px 1px 2px rgba(0, 0, 0, 0.3));\n",
              "        fill: #FFFFFF;\n",
              "      }\n",
              "    </style>\n",
              "    <button class=\"colab-df-generate\" onclick=\"generateWithVariable('gdf_1951')\"\n",
              "            title=\"Generate code using this dataframe.\"\n",
              "            style=\"display:none;\">\n",
              "\n",
              "  <svg xmlns=\"http://www.w3.org/2000/svg\" height=\"24px\"viewBox=\"0 0 24 24\"\n",
              "       width=\"24px\">\n",
              "    <path d=\"M7,19H8.4L18.45,9,17,7.55,7,17.6ZM5,21V16.75L18.45,3.32a2,2,0,0,1,2.83,0l1.4,1.43a1.91,1.91,0,0,1,.58,1.4,1.91,1.91,0,0,1-.58,1.4L9.25,21ZM18.45,9,17,7.55Zm-12,3A5.31,5.31,0,0,0,4.9,8.1,5.31,5.31,0,0,0,1,6.5,5.31,5.31,0,0,0,4.9,4.9,5.31,5.31,0,0,0,6.5,1,5.31,5.31,0,0,0,8.1,4.9,5.31,5.31,0,0,0,12,6.5,5.46,5.46,0,0,0,6.5,12Z\"/>\n",
              "  </svg>\n",
              "    </button>\n",
              "    <script>\n",
              "      (() => {\n",
              "      const buttonEl =\n",
              "        document.querySelector('#id_85c8782c-6781-4198-a282-8de63d608aa3 button.colab-df-generate');\n",
              "      buttonEl.style.display =\n",
              "        google.colab.kernel.accessAllowed ? 'block' : 'none';\n",
              "\n",
              "      buttonEl.onclick = () => {\n",
              "        google.colab.notebook.generateWithVariable('gdf_1951');\n",
              "      }\n",
              "      })();\n",
              "    </script>\n",
              "  </div>\n",
              "\n",
              "    </div>\n",
              "  </div>\n"
            ],
            "application/vnd.google.colaboratory.intrinsic+json": {
              "type": "dataframe",
              "variable_name": "gdf_1951"
            }
          },
          "metadata": {},
          "execution_count": 71
        }
      ]
    },
    {
      "cell_type": "markdown",
      "source": [
        "##Analyse de densité avec la création de cartes de chaleur"
      ],
      "metadata": {
        "id": "1bpjCESVeWCF"
      }
    },
    {
      "cell_type": "markdown",
      "source": [
        "A l'aide d'une estimation de densité par noyau (Kernel Density Estimation) qui permet de créer une estimation lisse de la densité de points sur une surface."
      ],
      "metadata": {
        "id": "2tpEEO2slj3D"
      }
    },
    {
      "cell_type": "code",
      "source": [
        "!pip install folium"
      ],
      "metadata": {
        "colab": {
          "base_uri": "https://localhost:8080/"
        },
        "id": "FUem_U-klk5R",
        "outputId": "04fce3e9-ff97-4eba-ac6b-98ad201b3f0a"
      },
      "execution_count": null,
      "outputs": [
        {
          "output_type": "stream",
          "name": "stdout",
          "text": [
            "Requirement already satisfied: folium in /usr/local/lib/python3.11/dist-packages (0.19.4)\n",
            "Requirement already satisfied: branca>=0.6.0 in /usr/local/lib/python3.11/dist-packages (from folium) (0.8.1)\n",
            "Requirement already satisfied: jinja2>=2.9 in /usr/local/lib/python3.11/dist-packages (from folium) (3.1.5)\n",
            "Requirement already satisfied: numpy in /usr/local/lib/python3.11/dist-packages (from folium) (1.26.4)\n",
            "Requirement already satisfied: requests in /usr/local/lib/python3.11/dist-packages (from folium) (2.32.3)\n",
            "Requirement already satisfied: xyzservices in /usr/local/lib/python3.11/dist-packages (from folium) (2025.1.0)\n",
            "Requirement already satisfied: MarkupSafe>=2.0 in /usr/local/lib/python3.11/dist-packages (from jinja2>=2.9->folium) (3.0.2)\n",
            "Requirement already satisfied: charset-normalizer<4,>=2 in /usr/local/lib/python3.11/dist-packages (from requests->folium) (3.4.1)\n",
            "Requirement already satisfied: idna<4,>=2.5 in /usr/local/lib/python3.11/dist-packages (from requests->folium) (3.10)\n",
            "Requirement already satisfied: urllib3<3,>=1.21.1 in /usr/local/lib/python3.11/dist-packages (from requests->folium) (2.3.0)\n",
            "Requirement already satisfied: certifi>=2017.4.17 in /usr/local/lib/python3.11/dist-packages (from requests->folium) (2024.12.14)\n"
          ]
        }
      ]
    },
    {
      "cell_type": "code",
      "source": [
        "import folium\n",
        "from folium.plugins import HeatMap\n",
        "import geopandas as gpd\n",
        "\n",
        "# Fonction pour générer une heatmap avec Folium\n",
        "def generate_heatmap(gdf, title):\n",
        "    # Créer une carte centrée sur Paris\n",
        "    m = folium.Map(location=[48.8566, 2.3522], zoom_start=12)\n",
        "\n",
        "    # Ajouter une heatmap\n",
        "    HeatMap(data=gdf['geometry'].apply(lambda geom: [geom.y, geom.x] if geom else [None, None]).dropna().to_list(),\n",
        "            radius=10).add_to(m)\n",
        "\n",
        "    # Ajouter un titre\n",
        "    folium.map.LayerControl('topright', collapsed=False).add_to(m)\n",
        "\n",
        "    return m\n",
        "\n",
        "# Heatmap pour 1898\n",
        "heatmap_1898 = generate_heatmap(gdf_1898, \"Heatmap 1898\")\n",
        "heatmap_1898.save(\"heatmap_1898.html\")\n",
        "\n",
        "# Heatmap pour 1951\n",
        "heatmap_1951 = generate_heatmap(gdf_1951, \"Heatmap 1951\")\n",
        "heatmap_1951.save(\"heatmap_1951.html\")\n"
      ],
      "metadata": {
        "id": "9cpwMIw5lxHy"
      },
      "execution_count": null,
      "outputs": []
    },
    {
      "cell_type": "markdown",
      "source": [
        "Co-visualiser les données"
      ],
      "metadata": {
        "id": "SqBjLfEUM7Cc"
      }
    },
    {
      "cell_type": "code",
      "source": [
        "import folium\n",
        "from folium.plugins import HeatMap\n",
        "import geopandas as gpd\n",
        "\n",
        "# Fonction pour générer une heatmap avec normalisation\n",
        "def add_heatmap_layer(map_obj, gdf, layer_name, total_points, radius=15, blur=10):\n",
        "    \"\"\"\n",
        "    Ajoute une couche de heatmap à un objet Folium Map.\n",
        "\n",
        "    :param map_obj: L'objet Folium Map\n",
        "    :param gdf: GeoDataFrame contenant les données\n",
        "    :param layer_name: Nom de la couche\n",
        "    :param total_points: Nombre total de points pour normalisation\n",
        "    :param radius: Rayon des points de la heatmap\n",
        "    :param blur: Niveau de flou de la heatmap\n",
        "    \"\"\"\n",
        "    # Nettoyer les données : garder uniquement les géométries valides\n",
        "    valid_geometries = gdf['geometry'][gdf['geometry'].notnull()]\n",
        "    normalized_data = [\n",
        "        [geom.y, geom.x, 1 / total_points]\n",
        "        for geom in valid_geometries if geom\n",
        "    ]\n",
        "\n",
        "    # Ajouter une heatmap comme couche\n",
        "    heatmap_layer = folium.FeatureGroup(name=layer_name)\n",
        "    HeatMap(\n",
        "        data=normalized_data,\n",
        "        radius=radius,\n",
        "        blur=blur,\n",
        "        max_zoom=1\n",
        "    ).add_to(heatmap_layer)\n",
        "    heatmap_layer.add_to(map_obj)\n",
        "\n",
        "# Créer une carte centrée sur Paris\n",
        "m = folium.Map(location=[48.8566, 2.3522], zoom_start=12)\n",
        "\n",
        "# Normalisation par le nombre de points\n",
        "total_points_1898 = len(gdf_1898[gdf_1898['geometry'].notnull()])\n",
        "total_points_1951 = len(gdf_1951[gdf_1951['geometry'].notnull()])\n",
        "\n",
        "# Ajouter les couches de heatmap\n",
        "add_heatmap_layer(m, gdf_1898, \"Heatmap 1898\", total_points_1898)\n",
        "add_heatmap_layer(m, gdf_1951, \"Heatmap 1951\", total_points_1951)\n",
        "\n",
        "# Ajouter le contrôle des couches\n",
        "folium.LayerControl(collapsed=False).add_to(m)\n",
        "\n",
        "# Sauvegarder la carte\n",
        "m.save(\"heatmap_combined_1898_1951.html\")\n"
      ],
      "metadata": {
        "id": "Br7TiSy_M6IH"
      },
      "execution_count": null,
      "outputs": []
    },
    {
      "cell_type": "markdown",
      "source": [
        "##Analyse par intersection des zones de haute densité"
      ],
      "metadata": {
        "id": "ZLaXCi0AQ74M"
      }
    },
    {
      "cell_type": "code",
      "source": [
        "import geopandas as gpd\n",
        "import numpy as np\n",
        "import pandas as pd\n",
        "from shapely.geometry import Polygon\n",
        "import folium\n",
        "\n",
        "# Étape 1 : Créer un carroyage spatial commun\n",
        "def create_grid(bounds, cell_size):\n",
        "    \"\"\"\n",
        "    Crée une grille (carroyage) à partir des bornes et de la taille des cellules.\n",
        "\n",
        "    :param bounds: Tuple contenant (minx, miny, maxx, maxy)\n",
        "    :param cell_size: Taille des cellules de la grille\n",
        "    :return: GeoDataFrame représentant la grille\n",
        "    \"\"\"\n",
        "    minx, miny, maxx, maxy = bounds\n",
        "    x_coords = np.arange(minx, maxx, cell_size)\n",
        "    y_coords = np.arange(miny, maxy, cell_size)\n",
        "    polygons = []\n",
        "\n",
        "    for x in x_coords:\n",
        "        for y in y_coords:\n",
        "            polygons.append(Polygon([\n",
        "                (x, y), (x + cell_size, y),\n",
        "                (x + cell_size, y + cell_size), (x, y + cell_size)\n",
        "            ]))\n",
        "\n",
        "    grid = gpd.GeoDataFrame({'geometry': polygons}, crs=\"EPSG:4326\")\n",
        "    return grid\n",
        "\n",
        "# Étape 2 : Calculer la densité dans chaque cellule pour chaque dataset\n",
        "def calculate_density(grid, gdf, value_column=\"density\"):\n",
        "    \"\"\"\n",
        "    Calcule la densité des points dans chaque cellule de la grille.\n",
        "\n",
        "    :param grid: GeoDataFrame représentant la grille\n",
        "    :param gdf: GeoDataFrame des points\n",
        "    :param value_column: Nom de la colonne de densité à ajouter\n",
        "    :return: GeoDataFrame mis à jour avec les densités\n",
        "    \"\"\"\n",
        "    # Spatial join pour compter les points dans chaque cellule\n",
        "    #gdf = gdf.to_crs(grid.crs)\n",
        "    joined = gpd.sjoin(grid, gdf, how=\"left\", predicate=\"intersects\")\n",
        "    densities = joined.groupby(joined.index).size()\n",
        "    #print(densities.value_counts())\n",
        "    grid[value_column] = densities\n",
        "    grid[value_column] = grid[value_column].fillna(0)  # Remplir les cellules vides avec 0\n",
        "    return grid\n",
        "\n",
        "# Étape 3 : Identifier les zones d'intersection\n",
        "def analyze_intersections(grid_1898, grid_1951, threshold=2):\n",
        "    \"\"\"\n",
        "    Identifie les zones d'intersection entre deux grilles de densité.\n",
        "\n",
        "    :param grid_1898: GeoDataFrame avec densité pour 1898\n",
        "    :param grid_1951: GeoDataFrame avec densité pour 1951\n",
        "    :param threshold: Seuil de densité pour considérer une zone significative\n",
        "    :return: GeoDataFrame combinée avec les catégories d'intersection\n",
        "    \"\"\"\n",
        "    combined = grid_1898.copy()\n",
        "    combined[\"density_1951\"] = grid_1951[\"density\"]\n",
        "\n",
        "    # Identifier les catégories\n",
        "    combined[\"category\"] = \"No Data\"\n",
        "    combined.loc[(combined[\"density\"] >= threshold) & (combined[\"density_1951\"] < threshold), \"category\"] = \"1898 Only\"\n",
        "    combined.loc[(combined[\"density\"] < threshold) & (combined[\"density_1951\"] >= threshold), \"category\"] = \"1951 Only\"\n",
        "    combined.loc[(combined[\"density\"] >= threshold) & (combined[\"density_1951\"] >= threshold), \"category\"] = \"Intersection\"\n",
        "    return combined\n",
        "\n",
        "# Étape 4 : Visualiser les résultats sur une carte\n",
        "def visualize_intersections(grid, map_center=(48.8566, 2.3522)):\n",
        "    \"\"\"\n",
        "    Visualise les zones d'intersection sur une carte Folium.\n",
        "\n",
        "    :param grid: GeoDataFrame combinée avec les catégories d'intersection\n",
        "    :param map_center: Coordonnées pour centrer la carte\n",
        "    \"\"\"\n",
        "    m = folium.Map(location=map_center, zoom_start=12)\n",
        "    colormap = {\"1898 Only\": \"blue\", \"1951 Only\": \"red\", \"Intersection\": \"purple\", \"No Data\": \"gray\"}\n",
        "\n",
        "    for _, row in grid.iterrows():\n",
        "        if row[\"category\"] != \"No Data\":\n",
        "            folium.GeoJson(\n",
        "                row[\"geometry\"],\n",
        "                style_function=lambda feature, color=colormap[row[\"category\"]]: {\n",
        "                    \"fillColor\": color,\n",
        "                    \"color\": color,\n",
        "                    \"weight\": 1,\n",
        "                    \"fillOpacity\": 0.5,\n",
        "                },\n",
        "                tooltip=f\"Category: {row['category']}\",\n",
        "            ).add_to(m)\n",
        "\n",
        "    return m\n",
        "\n",
        "# Exécution complète\n",
        "# Définir les bornes et la taille des cellules\n",
        "bounds = gdf_1898.total_bounds  # Utiliser les bornes de 1898 pour le carroyage\n",
        "cell_size = 0.005  # En degrés (~500m)\n",
        "\n",
        "# Créer la grille commune\n",
        "grid = create_grid(bounds, cell_size)\n",
        "\n",
        "# Calculer les densités pour chaque dataset\n",
        "grid_1898 = calculate_density(grid.copy(), gdf_1898)\n",
        "grid_1951 = calculate_density(grid.copy(), gdf_1951)\n",
        "\n",
        "# Identifier les intersections\n",
        "result_grid = analyze_intersections(grid_1898, grid_1951)\n"
      ],
      "metadata": {
        "id": "N_PjqNFARDCa",
        "colab": {
          "base_uri": "https://localhost:8080/"
        },
        "outputId": "a5b9038c-c032-41b7-b143-54b84760a964"
      },
      "execution_count": null,
      "outputs": [
        {
          "output_type": "stream",
          "name": "stdout",
          "text": [
            "1     19803\n",
            "3        14\n",
            "10        9\n",
            "4         8\n",
            "11        8\n",
            "      ...  \n",
            "52        1\n",
            "86        1\n",
            "82        1\n",
            "70        1\n",
            "99        1\n",
            "Name: count, Length: 104, dtype: int64\n",
            "1     19724\n",
            "2        21\n",
            "3        12\n",
            "12       12\n",
            "44       12\n",
            "      ...  \n",
            "62        1\n",
            "93        1\n",
            "89        1\n",
            "86        1\n",
            "66        1\n",
            "Name: count, Length: 83, dtype: int64\n"
          ]
        }
      ]
    },
    {
      "cell_type": "markdown",
      "source": [
        "Export en format SIG pour visualiser dans QGIS"
      ],
      "metadata": {
        "id": "QMqkWOpGuWRO"
      }
    },
    {
      "cell_type": "code",
      "source": [
        "gdf_1951.to_file(\"gdf_1951.gpkg\", layer=\"addr_1951\", driver=\"GPKG\")\n",
        "gdf_1898.to_file(\"gdf_1898.gpkg\", layer=\"addr_1898\", driver=\"GPKG\")\n",
        "grid.to_file(\"grid.gpkg\", layer=\"grid\", driver=\"GPKG\")\n",
        "result_grid.to_file(\"grid_result.gpkg\", layer=\"grid_result\", driver=\"GPKG\")"
      ],
      "metadata": {
        "id": "pDtBlxEZTbiF"
      },
      "execution_count": null,
      "outputs": []
    },
    {
      "cell_type": "markdown",
      "source": [
        "Ou visualiser en carte interactive"
      ],
      "metadata": {
        "id": "CUWXp6ievFif"
      }
    },
    {
      "cell_type": "code",
      "source": [
        "intersection_map = visualize_intersections(result_grid)\n",
        "intersection_map.save(\"intersection_map.html\")"
      ],
      "metadata": {
        "id": "paU7pc3-vDlz"
      },
      "execution_count": null,
      "outputs": []
    },
    {
      "cell_type": "markdown",
      "source": [
        "##Analyse thématique\n",
        "\n",
        "S'intéresser aux propriétaires les plus aisés"
      ],
      "metadata": {
        "id": "qbUTr4X8wn3r"
      }
    },
    {
      "cell_type": "code",
      "source": [
        "import folium\n",
        "import geopandas as gpd\n",
        "import matplotlib.pyplot as plt\n",
        "import random\n",
        "\n",
        "def plot_top_owners(gdf, title, owner_column):\n",
        "    # Comptage du nombre de propriétés par propriétaire et sélectionner les top-8\n",
        "    top_owners = gdf[owner_column].value_counts().head(8).index\n",
        "    owner_counts = gdf[owner_column].value_counts().head(8)  # Nombre de propriétés par propriétaire\n",
        "\n",
        "    # Créer une carte centrée sur Paris\n",
        "    m = folium.Map(location=[48.8566, 2.3522], zoom_start=12)\n",
        "\n",
        "    # Définir une palette de couleurs douces avec 8 couleurs\n",
        "    colors = plt.cm.Set1(range(8))  # Couleurs de la palette Set1 (pour 8 propriétaires)\n",
        "\n",
        "    # Assigner une couleur différente à chaque propriétaire\n",
        "    owner_colors = {owner: f'#{int(colors[i][0]*255):02x}{int(colors[i][1]*255):02x}{int(colors[i][2]*255):02x}'\n",
        "                    for i, owner in enumerate(top_owners)}\n",
        "\n",
        "    # Ajouter les propriétés avec une couleur différente pour chaque propriétaire\n",
        "    for _, row in gdf.iterrows():\n",
        "        if row[owner_column] in top_owners:\n",
        "            folium.CircleMarker(\n",
        "                location=[row.geometry.y, row.geometry.x],\n",
        "                radius=5,\n",
        "                color=owner_colors[row[owner_column]],\n",
        "                fill=True,\n",
        "                fill_opacity=0.6,\n",
        "                weight=0,\n",
        "                popup=f\"Propriétaire : {row[owner_column]}\"\n",
        "            ).add_to(m)\n",
        "\n",
        "    # Ajouter une légende avec le nombre de points par propriétaire\n",
        "    legend_html = '''\n",
        "    <div style=\"position: fixed;\n",
        "                bottom: 30px; left: 30px; width: 200px; height: 300px;\n",
        "                border:2px solid grey; z-index:9999; font-size: 14px; background-color:white;\n",
        "                opacity: 0.7; padding: 10px;\">\n",
        "    <b>Légende</b><br>'''\n",
        "\n",
        "    for owner, color in owner_colors.items():\n",
        "        count = owner_counts[owner]  # Récupère le nombre de propriétés pour ce propriétaire\n",
        "        legend_html += f'<i style=\"background-color:{color};width:10px;height:10px;display:inline-block;margin-right:5px;\"></i> {owner} ({count})<br>'\n",
        "\n",
        "    legend_html += '</div>'\n",
        "    m.get_root().html.add_child(folium.Element(legend_html))\n",
        "\n",
        "    return m\n",
        "\n",
        "# Carte pour 1898 avec les top-8 propriétaires\n",
        "map_1898_top_owners = plot_top_owners(gdf_1898, \"Top-8 Propriétaires en 1898\", owner_column='proprio_name*')\n",
        "map_1898_top_owners.save(\"top_owners_1898.html\")\n",
        "\n",
        "# Carte pour 1951 avec les top-8 propriétaires\n",
        "map_1951_top_owners = plot_top_owners(gdf_1951, \"Top-8 Propriétaires en 1951\", owner_column='nom_pers')\n",
        "map_1951_top_owners.save(\"top_owners_1951.html\")\n"
      ],
      "metadata": {
        "id": "u1Aa4-wP0LEG"
      },
      "execution_count": null,
      "outputs": []
    },
    {
      "cell_type": "markdown",
      "source": [
        "##Analyse temporelle avec filtre\n",
        "Comparer la localisation des points entre 1898 et 1951."
      ],
      "metadata": {
        "id": "nEXb1BjQwn9E"
      }
    },
    {
      "cell_type": "code",
      "source": [
        "from shapely.geometry import box\n",
        "\n",
        "def filter_points_by_area(gdf, minx, miny, maxx, maxy):\n",
        "    \"\"\"\n",
        "    Filtre les points à l'intérieur d'un rectangle délimité par les coordonnées minx, miny, maxx, maxy.\n",
        "\n",
        "    :param gdf: GeoDataFrame avec les points\n",
        "    :param minx: Longitude minimale du rectangle\n",
        "    :param miny: Latitude minimale du rectangle\n",
        "    :param maxx: Longitude maximale du rectangle\n",
        "    :param maxy: Latitude maximale du rectangle\n",
        "    :return: GeoDataFrame avec les points dans la zone spécifiée\n",
        "    \"\"\"\n",
        "    # Créer un polygone représentant le rectangle\n",
        "    area_of_interest = box(minx, miny, maxx, maxy)\n",
        "\n",
        "    # Filtrer les points qui se trouvent à l'intérieur de ce rectangle\n",
        "    filtered_gdf = gdf[gdf.geometry.within(area_of_interest)]\n",
        "\n",
        "    return filtered_gdf\n",
        "\n",
        "# Définir une zone d'intérêt (exemple : un rectangle autour de Paris)\n",
        "minx, miny, maxx, maxy = 2.3375, 48.8625, 2.4125, 48.875  # Coordonnées approximatives de Paris\n",
        "#MinX: 2.3375, MinY: 48.8625, MaxX: 2.4125, MaxY: 48.875\n",
        "\n",
        "# Filtrer les points en 1898\n",
        "filtered_1898 = filter_points_by_area(gdf_1898, minx, miny, maxx, maxy)\n",
        "# Filtrer les points en 1951\n",
        "filtered_1951 = filter_points_by_area(gdf_1951, minx, miny, maxx, maxy)\n",
        "\n",
        "# Visualiser les données filtrées\n",
        "filtered_1898.plot()\n",
        "filtered_1951.plot()\n"
      ],
      "metadata": {
        "colab": {
          "base_uri": "https://localhost:8080/",
          "height": 384
        },
        "id": "LZChT_DLRg6T",
        "outputId": "5d74ca3a-2478-4a02-f41a-0cf701e62786"
      },
      "execution_count": null,
      "outputs": [
        {
          "output_type": "execute_result",
          "data": {
            "text/plain": [
              "<Axes: >"
            ]
          },
          "metadata": {},
          "execution_count": 84
        },
        {
          "output_type": "display_data",
          "data": {
            "text/plain": [
              "<Figure size 640x480 with 1 Axes>"
            ],
            "image/png": "[encoded data removed]"
          },
          "metadata": {}
        },
        {
          "output_type": "display_data",
          "data": {
            "text/plain": [
              "<Figure size 640x480 with 1 Axes>"
            ],
            "image/png": "[encoded data removed]"
          },
          "metadata": {}
        }
      ]
    },
    {
      "cell_type": "code",
      "source": [
        "len(filtered_1898)"
      ],
      "metadata": {
        "colab": {
          "base_uri": "https://localhost:8080/"
        },
        "id": "sOY3r4uJTPuS",
        "outputId": "1b80fd04-87ee-42bb-f120-c92af92ffab1"
      },
      "execution_count": null,
      "outputs": [
        {
          "output_type": "execute_result",
          "data": {
            "text/plain": [
              "1845"
            ]
          },
          "metadata": {},
          "execution_count": 85
        }
      ]
    },
    {
      "cell_type": "code",
      "source": [
        "len(filtered_1951)"
      ],
      "metadata": {
        "colab": {
          "base_uri": "https://localhost:8080/"
        },
        "id": "zKqHIsjqTVXz",
        "outputId": "5423e3f3-970b-4e7f-bca1-63ee7eecd7fa"
      },
      "execution_count": null,
      "outputs": [
        {
          "output_type": "execute_result",
          "data": {
            "text/plain": [
              "1842"
            ]
          },
          "metadata": {},
          "execution_count": 86
        }
      ]
    },
    {
      "cell_type": "code",
      "source": [
        "import folium\n",
        "from folium import LayerControl\n",
        "\n",
        "# Créer une carte centrée sur Paris\n",
        "m = folium.Map(location=[48.8566, 2.3522], zoom_start=12)\n",
        "\n",
        "# Ajouter les points de 1898 avec des popups pour les noms des propriétaires\n",
        "layer_1898 = folium.FeatureGroup(name='1898 Data').add_to(m)\n",
        "for _, row in filtered_1898.iterrows():\n",
        "    folium.CircleMarker(\n",
        "        location=[row.geometry.y, row.geometry.x],\n",
        "        radius=5,  # Taille du cercle\n",
        "        color='blue',  # Couleur du contour\n",
        "        fill=True,\n",
        "        fill_color='blue',  # Couleur de remplissage\n",
        "        fill_opacity=0.6,\n",
        "        popup=f\"Propriétaire: {row['proprio_name*']}\"\n",
        "    ).add_to(layer_1898)\n",
        "\n",
        "# Ajouter les points de 1951 avec des popups pour les noms des propriétaires\n",
        "layer_1951 = folium.FeatureGroup(name='1951 Data').add_to(m)\n",
        "for _, row in filtered_1951.iterrows():\n",
        "    folium.CircleMarker(\n",
        "        location=[row.geometry.y, row.geometry.x],\n",
        "        radius=5,  # Taille du cercle\n",
        "        color='red',  # Couleur du contour\n",
        "        fill=True,\n",
        "        fill_color='red',  # Couleur de remplissage\n",
        "        fill_opacity=0.6,\n",
        "        popup=f\"Propriétaire: {row['nom_pers']}\"\n",
        "    ).add_to(layer_1951)\n",
        "\n",
        "# Ajouter un contrôle des couches pour activer/désactiver les couches\n",
        "LayerControl().add_to(m)\n",
        "\n",
        "# Afficher la carte\n",
        "m.save(\"comparaison_map_1898_1951.html\")\n"
      ],
      "metadata": {
        "id": "-AcR74Agob7O"
      },
      "execution_count": null,
      "outputs": []
    },
    {
      "cell_type": "markdown",
      "source": [
        "##Clustering spatial avec DBSCAN"
      ],
      "metadata": {
        "id": "whqRdOoUwn6d"
      }
    },
    {
      "cell_type": "code",
      "source": [
        "!pip install scikit-learn\n",
        "!pip install geopandas\n",
        "!pip install folium"
      ],
      "metadata": {
        "colab": {
          "base_uri": "https://localhost:8080/"
        },
        "id": "RflDQs-jKZVn",
        "outputId": "8affe9f0-9f55-4463-ece2-ddd2642a8a94"
      },
      "execution_count": null,
      "outputs": [
        {
          "output_type": "stream",
          "name": "stdout",
          "text": [
            "Requirement already satisfied: scikit-learn in /usr/local/lib/python3.11/dist-packages (1.6.1)\n",
            "Requirement already satisfied: numpy>=1.19.5 in /usr/local/lib/python3.11/dist-packages (from scikit-learn) (1.26.4)\n",
            "Requirement already satisfied: scipy>=1.6.0 in /usr/local/lib/python3.11/dist-packages (from scikit-learn) (1.13.1)\n",
            "Requirement already satisfied: joblib>=1.2.0 in /usr/local/lib/python3.11/dist-packages (from scikit-learn) (1.4.2)\n",
            "Requirement already satisfied: threadpoolctl>=3.1.0 in /usr/local/lib/python3.11/dist-packages (from scikit-learn) (3.5.0)\n",
            "Requirement already satisfied: geopandas in /usr/local/lib/python3.11/dist-packages (1.0.1)\n",
            "Requirement already satisfied: numpy>=1.22 in /usr/local/lib/python3.11/dist-packages (from geopandas) (1.26.4)\n",
            "Requirement already satisfied: pyogrio>=0.7.2 in /usr/local/lib/python3.11/dist-packages (from geopandas) (0.10.0)\n",
            "Requirement already satisfied: packaging in /usr/local/lib/python3.11/dist-packages (from geopandas) (24.2)\n",
            "Requirement already satisfied: pandas>=1.4.0 in /usr/local/lib/python3.11/dist-packages (from geopandas) (2.2.2)\n",
            "Requirement already satisfied: pyproj>=3.3.0 in /usr/local/lib/python3.11/dist-packages (from geopandas) (3.7.0)\n",
            "Requirement already satisfied: shapely>=2.0.0 in /usr/local/lib/python3.11/dist-packages (from geopandas) (2.0.6)\n",
            "Requirement already satisfied: python-dateutil>=2.8.2 in /usr/local/lib/python3.11/dist-packages (from pandas>=1.4.0->geopandas) (2.8.2)\n",
            "Requirement already satisfied: pytz>=2020.1 in /usr/local/lib/python3.11/dist-packages (from pandas>=1.4.0->geopandas) (2024.2)\n",
            "Requirement already satisfied: tzdata>=2022.7 in /usr/local/lib/python3.11/dist-packages (from pandas>=1.4.0->geopandas) (2025.1)\n",
            "Requirement already satisfied: certifi in /usr/local/lib/python3.11/dist-packages (from pyogrio>=0.7.2->geopandas) (2024.12.14)\n",
            "Requirement already satisfied: six>=1.5 in /usr/local/lib/python3.11/dist-packages (from python-dateutil>=2.8.2->pandas>=1.4.0->geopandas) (1.17.0)\n",
            "Requirement already satisfied: folium in /usr/local/lib/python3.11/dist-packages (0.19.4)\n",
            "Requirement already satisfied: branca>=0.6.0 in /usr/local/lib/python3.11/dist-packages (from folium) (0.8.1)\n",
            "Requirement already satisfied: jinja2>=2.9 in /usr/local/lib/python3.11/dist-packages (from folium) (3.1.5)\n",
            "Requirement already satisfied: numpy in /usr/local/lib/python3.11/dist-packages (from folium) (1.26.4)\n",
            "Requirement already satisfied: requests in /usr/local/lib/python3.11/dist-packages (from folium) (2.32.3)\n",
            "Requirement already satisfied: xyzservices in /usr/local/lib/python3.11/dist-packages (from folium) (2025.1.0)\n",
            "Requirement already satisfied: MarkupSafe>=2.0 in /usr/local/lib/python3.11/dist-packages (from jinja2>=2.9->folium) (3.0.2)\n",
            "Requirement already satisfied: charset-normalizer<4,>=2 in /usr/local/lib/python3.11/dist-packages (from requests->folium) (3.4.1)\n",
            "Requirement already satisfied: idna<4,>=2.5 in /usr/local/lib/python3.11/dist-packages (from requests->folium) (3.10)\n",
            "Requirement already satisfied: urllib3<3,>=1.21.1 in /usr/local/lib/python3.11/dist-packages (from requests->folium) (2.3.0)\n",
            "Requirement already satisfied: certifi>=2017.4.17 in /usr/local/lib/python3.11/dist-packages (from requests->folium) (2024.12.14)\n"
          ]
        }
      ]
    },
    {
      "cell_type": "code",
      "source": [
        "import geopandas as gpd\n",
        "import pandas as pd\n",
        "from sklearn.cluster import DBSCAN\n",
        "import numpy as np\n",
        "import folium\n",
        "import matplotlib.pyplot as plt\n",
        "\n",
        "def apply_dbscan(gdf, eps=0.01, min_samples=5):\n",
        "    \"\"\"\n",
        "    Applique DBSCAN sur un GeoDataFrame donné.\n",
        "\n",
        "    :param gdf: GeoDataFrame avec des points géographiques.\n",
        "    :param eps: Distance maximale entre deux points pour être considérés comme voisins (en degrés).\n",
        "    :param min_samples: Nombre minimum de points pour constituer un cluster.\n",
        "    :return: GeoDataFrame avec une colonne 'cluster' indiquant le numéro du cluster ou -1 pour le bruit.\n",
        "    \"\"\"\n",
        "    # Extraire les coordonnées des points (longitudes et latitudes)\n",
        "    coords = np.array(list(zip(gdf.geometry.x, gdf.geometry.y)))\n",
        "\n",
        "    # Appliquer DBSCAN\n",
        "    dbscan = DBSCAN(eps=eps, min_samples=min_samples)\n",
        "    gdf['cluster'] = dbscan.fit_predict(coords)\n",
        "    print(gdf['cluster'])\n",
        "\n",
        "    return gdf\n",
        "\n",
        "def plot_dbscan_clusters(gdf, title):\n",
        "    \"\"\"\n",
        "    Visualise les clusters DBSCAN sur une carte interactive.\n",
        "\n",
        "    :param gdf: GeoDataFrame avec les clusters.\n",
        "    :param title: Titre de la carte.\n",
        "    :return: Carte Folium.\n",
        "    \"\"\"\n",
        "    # Créer une carte centrée sur Paris\n",
        "    m = folium.Map(location=[48.8566, 2.3522], zoom_start=12)\n",
        "\n",
        "    # Définir une palette de couleurs pour les clusters\n",
        "    cluster_colors = plt.cm.get_cmap('tab20', len(gdf['cluster'].unique()))\n",
        "\n",
        "    # Ajouter des cercles pour chaque point, avec des couleurs par cluster\n",
        "    for _, row in gdf.iterrows():\n",
        "        color = cluster_colors(row['cluster'] % len(gdf['cluster'].unique()))  # Assigner une couleur à chaque cluster\n",
        "        folium.CircleMarker(\n",
        "            location=[row.geometry.y, row.geometry.x],\n",
        "            radius=5,\n",
        "            color=f'#{int(color[0]*255):02x}{int(color[1]*255):02x}{int(color[2]*255):02x}',\n",
        "            fill=True,\n",
        "            fill_color=f'#{int(color[0]*255):02x}{int(color[1]*255):02x}{int(color[2]*255):02x}',\n",
        "            fill_opacity=0.6,\n",
        "            weight=0\n",
        "        ).add_to(m)\n",
        "\n",
        "    return m\n"
      ],
      "metadata": {
        "id": "V1haDUYFKTWE"
      },
      "execution_count": null,
      "outputs": []
    },
    {
      "cell_type": "code",
      "source": [
        "# Appliquer DBSCAN\n",
        "gdf_1898_clusters = apply_dbscan(gdf_1898, eps=0.001, min_samples=5)\n",
        "\n",
        "# Visualiser les clusters DBSCAN sur la carte\n",
        "map_1898_dbscan = plot_dbscan_clusters(gdf_1898_clusters, \"Clusters DBSCAN en 1898\")\n",
        "map_1898_dbscan.save(\"dbscan_clusters_1898.html\")\n"
      ],
      "metadata": {
        "colab": {
          "base_uri": "https://localhost:8080/"
        },
        "id": "lt-gudnkK-h_",
        "outputId": "02d108aa-88eb-45b8-f75e-b2ec1ca08618"
      },
      "execution_count": null,
      "outputs": [
        {
          "output_type": "stream",
          "name": "stdout",
          "text": [
            "0         0\n",
            "1         0\n",
            "2         0\n",
            "3         0\n",
            "4         0\n",
            "         ..\n",
            "14009    77\n",
            "14010    77\n",
            "14011    77\n",
            "14012    77\n",
            "14013    77\n",
            "Name: cluster, Length: 13027, dtype: int64\n"
          ]
        },
        {
          "output_type": "stream",
          "name": "stderr",
          "text": [
            "<ipython-input-80-f7c8c47a2d35>:39: MatplotlibDeprecationWarning: The get_cmap function was deprecated in Matplotlib 3.7 and will be removed in 3.11. Use ``matplotlib.colormaps[name]`` or ``matplotlib.colormaps.get_cmap()`` or ``pyplot.get_cmap()`` instead.\n",
            "  cluster_colors = plt.cm.get_cmap('tab20', len(gdf['cluster'].unique()))\n"
          ]
        }
      ]
    },
    {
      "cell_type": "code",
      "source": [
        "# Appliquer DBSCAN\n",
        "gdf_1951_clusters = apply_dbscan(gdf_1951, eps=0.001, min_samples=5)\n",
        "\n",
        "# Visualiser les clusters DBSCAN sur la carte\n",
        "map_1951_dbscan = plot_dbscan_clusters(gdf_1951_clusters, \"Clusters DBSCAN en 1951\")\n",
        "map_1951_dbscan.save(\"dbscan_clusters_1951.html\")\n"
      ],
      "metadata": {
        "colab": {
          "base_uri": "https://localhost:8080/"
        },
        "id": "WyfBpZT8K_Es",
        "outputId": "0f4052e3-4d4d-4f63-cac9-5208dc4d4be1"
      },
      "execution_count": null,
      "outputs": [
        {
          "output_type": "stream",
          "name": "stdout",
          "text": [
            "79568     18\n",
            "84895     -1\n",
            "26688      0\n",
            "40468      0\n",
            "83379      0\n",
            "        ... \n",
            "80188      3\n",
            "31267    115\n",
            "80580      3\n",
            "73430     11\n",
            "43733     13\n",
            "Name: cluster, Length: 13880, dtype: int64\n"
          ]
        },
        {
          "output_type": "stream",
          "name": "stderr",
          "text": [
            "<ipython-input-80-f7c8c47a2d35>:39: MatplotlibDeprecationWarning: The get_cmap function was deprecated in Matplotlib 3.7 and will be removed in 3.11. Use ``matplotlib.colormaps[name]`` or ``matplotlib.colormaps.get_cmap()`` or ``pyplot.get_cmap()`` instead.\n",
            "  cluster_colors = plt.cm.get_cmap('tab20', len(gdf['cluster'].unique()))\n"
          ]
        }
      ]
    },
    {
      "cell_type": "markdown",
      "source": [
        "**Paramètre à ajuster**:\n",
        "\n",
        "*eps* : la distance maximale entre deux points pour qu'ils soient considérés comme voisins. Cela correspond à la tolerance spatiale. Plus eps est petit, plus les points doivent être proches pour être considérés comme voisins. Un eps trop grand peut fusionner des clusters qui ne devraient pas l'être.\n",
        "\n",
        "*min_samples* : le nombre minimum de points requis pour qu'un groupe soit considéré comme un cluster. Plus ce nombre est élevé, plus les clusters doivent être denses pour être formés."
      ],
      "metadata": {
        "id": "-VDMxAtycyzI"
      }
    },
    {
      "cell_type": "code",
      "source": [
        "gdf_1951_clusters.to_file('gdf_1951_clusters.shp')\n",
        "gdf_1898_clusters.to_file('gdf_1898_clusters.shp')"
      ],
      "metadata": {
        "colab": {
          "base_uri": "https://localhost:8080/"
        },
        "id": "t1mV0CTRfs5l",
        "outputId": "4c3061d3-b3d1-436e-94cb-16c0933430f8"
      },
      "execution_count": null,
      "outputs": [
        {
          "output_type": "stream",
          "name": "stderr",
          "text": [
            "<ipython-input-83-fb6094304331>:1: UserWarning: Column names longer than 10 characters will be truncated when saved to ESRI Shapefile.\n",
            "  gdf_1951_clusters.to_file('gdf_1951_clusters.shp')\n",
            "/usr/local/lib/python3.11/dist-packages/pyogrio/raw.py:723: RuntimeWarning: Normalized/laundered field name: 'Unnamed: 0.1' to 'Unnamed_ 0'\n",
            "  ogr_write(\n",
            "/usr/local/lib/python3.11/dist-packages/pyogrio/raw.py:723: RuntimeWarning: Normalized/laundered field name: 'Unnamed: 0' to 'Unnamed__1'\n",
            "  ogr_write(\n",
            "/usr/local/lib/python3.11/dist-packages/pyogrio/raw.py:723: RuntimeWarning: Normalized/laundered field name: '__index_imm_geoGT__' to '__index_im'\n",
            "  ogr_write(\n",
            "/usr/local/lib/python3.11/dist-packages/pyogrio/raw.py:723: RuntimeWarning: Normalized/laundered field name: '__index_pers__' to '__index_pe'\n",
            "  ogr_write(\n",
            "/usr/local/lib/python3.11/dist-packages/pyogrio/raw.py:723: RuntimeWarning: Normalized/laundered field name: 'index_total' to 'index_tota'\n",
            "  ogr_write(\n",
            "/usr/local/lib/python3.11/dist-packages/pyogrio/raw.py:723: RuntimeWarning: Normalized/laundered field name: 'quartier_pers' to 'quartier_p'\n",
            "  ogr_write(\n",
            "/usr/local/lib/python3.11/dist-packages/pyogrio/raw.py:723: RuntimeWarning: Normalized/laundered field name: 'quartier_imm' to 'quartier_i'\n",
            "  ogr_write(\n",
            "/usr/local/lib/python3.11/dist-packages/pyogrio/raw.py:723: RuntimeWarning: Normalized/laundered field name: 'prenom_pers' to 'prenom_per'\n",
            "  ogr_write(\n",
            "/usr/local/lib/python3.11/dist-packages/pyogrio/raw.py:723: RuntimeWarning: Normalized/laundered field name: 'type_voie_pers' to 'type_voie_'\n",
            "  ogr_write(\n",
            "/usr/local/lib/python3.11/dist-packages/pyogrio/raw.py:723: RuntimeWarning: Normalized/laundered field name: 'nom_voie_pers' to 'nom_voie_p'\n",
            "  ogr_write(\n",
            "/usr/local/lib/python3.11/dist-packages/pyogrio/raw.py:723: RuntimeWarning: Normalized/laundered field name: 'nveaux_codes' to 'nveaux_cod'\n",
            "  ogr_write(\n",
            "/usr/local/lib/python3.11/dist-packages/pyogrio/raw.py:723: RuntimeWarning: Normalized/laundered field name: 'code_voie_imm' to 'code_voie_'\n",
            "  ogr_write(\n",
            "/usr/local/lib/python3.11/dist-packages/pyogrio/raw.py:723: RuntimeWarning: Normalized/laundered field name: 'liste_nums_imm' to 'liste_nums'\n",
            "  ogr_write(\n",
            "/usr/local/lib/python3.11/dist-packages/pyogrio/raw.py:723: RuntimeWarning: Normalized/laundered field name: 'nb_nums_imm' to 'nb_nums_im'\n",
            "  ogr_write(\n",
            "/usr/local/lib/python3.11/dist-packages/pyogrio/raw.py:723: RuntimeWarning: Normalized/laundered field name: 'type_voie_imm' to 'type_voi_1'\n",
            "  ogr_write(\n",
            "/usr/local/lib/python3.11/dist-packages/pyogrio/raw.py:723: RuntimeWarning: Normalized/laundered field name: 'nom_voie_imm' to 'nom_voie_i'\n",
            "  ogr_write(\n",
            "/usr/local/lib/python3.11/dist-packages/pyogrio/raw.py:723: RuntimeWarning: Normalized/laundered field name: 'lat_imm_geoGT' to 'lat_imm_ge'\n",
            "  ogr_write(\n",
            "/usr/local/lib/python3.11/dist-packages/pyogrio/raw.py:723: RuntimeWarning: Normalized/laundered field name: 'lng_imm_geoGT' to 'lng_imm_ge'\n",
            "  ogr_write(\n",
            "/usr/local/lib/python3.11/dist-packages/pyogrio/raw.py:723: RuntimeWarning: Normalized/laundered field name: 'result_type_imm_geoGT' to 'result_typ'\n",
            "  ogr_write(\n",
            "/usr/local/lib/python3.11/dist-packages/pyogrio/raw.py:723: RuntimeWarning: Normalized/laundered field name: 'result_city_imm_geoGT' to 'result_cit'\n",
            "  ogr_write(\n",
            "/usr/local/lib/python3.11/dist-packages/pyogrio/raw.py:723: RuntimeWarning: Normalized/laundered field name: 'code_geoH_imm' to 'code_geoH_'\n",
            "  ogr_write(\n",
            "/usr/local/lib/python3.11/dist-packages/pyogrio/raw.py:723: RuntimeWarning: Normalized/laundered field name: 'coord_geoH_imm' to 'coord_geoH'\n",
            "  ogr_write(\n",
            "/usr/local/lib/python3.11/dist-packages/pyogrio/raw.py:723: RuntimeWarning: Normalized/laundered field name: 'source_geoH_imm' to 'source_geo'\n",
            "  ogr_write(\n",
            "/usr/local/lib/python3.11/dist-packages/pyogrio/raw.py:723: RuntimeWarning: Normalized/laundered field name: 'lng_imm_geoH' to 'lng_imm__1'\n",
            "  ogr_write(\n",
            "/usr/local/lib/python3.11/dist-packages/pyogrio/raw.py:723: RuntimeWarning: Normalized/laundered field name: 'lat_imm_geoH' to 'lat_imm__1'\n",
            "  ogr_write(\n",
            "/usr/local/lib/python3.11/dist-packages/pyogrio/raw.py:723: RuntimeWarning: Normalized/laundered field name: 'distance_km' to 'distance_k'\n",
            "  ogr_write(\n",
            "/usr/local/lib/python3.11/dist-packages/pyogrio/raw.py:723: RuntimeWarning: Value '['1057 : 57', '1064 : 12, 35', '1063 : 17. 19, 21, 35, 52, 54', '1064 : 12', '1065 3 4 bis, 14, 16', '1067 :: 2,', '4', '1068 : 3, 5, 7', '1070 : 6, 8, 10. 12', '1072 : 14', '1073 : 174,', '176, 178', '1077 : 8', '1079 : 61, 63', '1082 : 60, 62, 64', '1083 : 1,', '1086 : 1, 6', '1087 : 1, 2, 4, 12, 14, 16, 18 .', '1090 : 15', '1091 : 1, 9 à 17', '1092 : en entier', '1093 : 2', '1095 :', '1097 : 1, 3, 5, 7, 13, 15, 17, 19,', '21', '1098 : 6 à 12, 7, 11, 17', '1101 : 2, 4, 6, 8', '1102 : 5', '1109 : 2, 6', '1114 : 15', '1116 : 4', '1119 : 1, 3, 4, 5, 6, 8, 9, 10', '11, 12, 14', '1121 : 2, 4, 5, 5 bis', '7, 7 bis', '1122 : 16', '1123 : en', 'entier', '1126 : 6 à 12 inclus, 33', '43 inclus, 36, 38, 66, 76, 76 bis', '1129 : 18', '1132 : 1, 2, 3', '1136 :', '1 à 11, 2 à 16 inclus', '1139 : 1, 2, 4', '1140 : 35, 63, 65, 69, 71', '1142 : 1', '1144 : 21', '1146 : 53, 73, 104, 106, 108', '1149 : 13, 15 20', '1157 : 4', '1163 : 1, 3, 5', '1165 : en entier', '1166 : 13, 17 19', '1168 : 22, 24, 40, 48, 71, 73,', '181', '1169 : 2, 4', '1172 : 18, 26, 34', '1177 : 1 à 11 inclus', '1180 : 1 à 15', 'inclus', '1181 : 15', '1182 : 2', '1184 : 26, 28, 30', '1185 : 58', '1186 : 1 à 11', 'inclus, 13 à 31, 37 à 73, 82 à 92', '1188 : 1, 3', '1189 : en', 'entier', '1190 : en entier', '1191 : 72', '1192 : 4 à 16 inclus', '1194 :', '6, 8, 30 à 42, 45, 47, 49, 53, 55 „', '1199 : 6, 8, 10, 12', '1200: 3, 3 ter', '1205 : 1', '1206 : 2', '1207 : 35, 37, 39', '1208 : 9, 13, 15, 93 à', '229 inclus, 210 à 258 inclus', '1209 :', '.22, 24, 26, 43', '1210 : 1 2, 3, 4', '1212 : 59, 84, 86, 88, 94, 124', '1214 : 1 à 35 inclus, 4, 6, 14, 20', '28, 32', '1218 : 3, 5', '1220 :', '1, 3, 5 .', '1221 : 16', '1222 :', 'entier', '1225 : 16', '1228 : 1', '1230 : 157, 158 bis, 159, 209, 211,', '213, 220, 222', '1235 : 12, 14, 18', '1236 : 6, 8, 14, 15, 16, 17', '1238 :', '87 à 101 inclus, 140 bis, 150, 152', '1241 : 65', '1248 : 20', '1250 : 23', '1254 : 4, 5, 17', '1255 : 19', '1264 :', '1266 : 11', '1268 : 1, 3, 4, 5, 34, 56', '1270 : 65', '1284 :', '39 à 45 inclus', '1286 : 5', '1290 :', '4, 9, 11 -', '1294 : 7, 9', '1295 : 38 40', '1296 : 4, 6, 8, 10, 12', '1299 :', '1, 2, 3, 4 à 16 inclus, 39 à 41', '1301 : 42, 130, 132, 134, 253 bis,', '253 ter, 289 à 303 inclus', '1303 : 2. 4', '1309 : 2, 3, 4, 5, 6, 7, 8', '1310 : 16', '1312 : 7, 9, 11, 13, 21', '23', '1313 : 23 à 29 inclus, 30 à', '36 inclus', '1316 : 2 à 54 inclus,', '11, 13, 66 à 132, 75, 77, 79, 91,', '93, 148, 158 à 166 inclus', '1317 : 49. 62, 64', '1319 : 24, 26, 28', '1321 : 1, 2, 3, 4, 5', '1322 : 1 à 11', '1325 : en entier', '1326 :', '4, 18 .', '1334 : 1 2, 4', '1337 : 1, 2,', '9, 11, 13, 15,', '16, 17, 18', '1338 : 24', '1343 : 8', '1346 : 6', '1347 : 12, 14', '1353 : 5', '1357 : 1, 2', '1364 : 1, 49, 51, 53', '1370 : 2 à 14 inclus', '1372 :', '8, 20 à 38 inclus', '48', '1382 : 28,', '30, 32, 62 à 72 inclus', '1385 : 6, 8, 10', '1387 : 2, 4, 6, 7 à 19 inclus', '44, 46, 48, 50', '1388 : 10', '1392 :', '1395 : 5, 8, 23, 25,', '27', '1400 : 1, 33', '1402 : 40, 57, 59, 61, 89, 91, 93, 99, 152, 154', '- 1403 :', '2, 5, 6, 7, 8, 10, 43, 45, 47', '1407 : 2', '1408 : 2, 7', '1410 : 23', '1415 : sans', '1418 : en', 'entier', '1422 : 2 à 48, 3 à 45', '1425 : 1, 3, 7 à 17 inclus', '1426 : 1, 2, 3, 4', '1428 : 1, 2, 3, 4', '5', '1430 : 12, 14', '1432 : 21, 23 „', '1433 : 16, 18 .', '1437 : 6 à 14', '1438 : 17 bis, 27, 34 .', '1439 : 1', '1441 : 10', '1443 : 2 à 26, 19, 21', '23', '1448 : 7, 9', '1449 : 22, 28', '1451 : 15, 25', '1453 : 1 à 7, 2 à', '8', '1454 : en entier', '1457 : 8, 10', '1460 : 2, 13', '1462 : 1, 2 à 18, 3,', '5, 30, 32, 34, 36, 42, 44, 46', '1463 :', '1 à 17, 32', '1466 : 1, 2 bis à 12', '1469 : 6', '1472 : 15, 17', '1476 :', '1, 2 à 12', '1477 : 1, 3', '- 1491 : 111', '1493 : en entier', '1494 : 15, 45', '1496 : 13, 15', '1500 : 13, 15, 36 à', '1501 : 24', '1503 : 1 à 15', '1505 : 2 à 14,', '20 à 28', '1508 : 23, 25', '1515 : 1, 2, 3, 4, 5, 6, 8', '1517 : 42, 44, 46', '1518 : 6 ter', '1519 : 1, 3', '1520 : 2 à 14, 47, 49, 51, 53', '1525 : 12, 14', '1528 : en entier', '1531 : 10', '1532 : 1', '9, 12, 42,', '44', '1539 : 14', '1541 : 3, 7', '1542 : 5', '1544 : 6, 8, 10, 14, 16,', '30', '1546 : 11, 13', '1548 : 18, 20 22', '1550 : 56', '1551 : 1', '1552 : 2, 4, 6, 8, 10', '1558 : 3, 5', '1560 : 50, 54, 56, 70, 72, 74', '1563 : 2, 4, 5, 6, 8, 13', '1568 : 1, 2, 3, 4', '1570 : 2', '1573 : 6', '1574 : 31', '1575 : 1, 2, 3, 5', '1576 : 2, 4, 17, 22 à 34', '1, 2, 3, 4', '1579 :', '1584 : 2, 4, 6, 8', '1585 : 3, 5, 9,', '11 -', '1587 : 24, 57, 71, 78, 80. 82', '1589 : 2, 3, 4, 5, 6, 7, 8', '1590: 9, 11, 13, 15', '1591 : 11, 13, 15', '1594 : 10', '1597 : en entier', '1598 : 23, 25, 27', '1604 : 1, 3, 4', '1605 : 1, 2 à 12, 3, 5, 7', '1608 :', '1, 2, 3, 4, 5, 6, 7, 8, 9', '1610 :', '1611 : 10. 12, 14,', '26. 28', '1617 : 1 à 11, 8, 19,', '1618 : 1 à 15, 2 à 38', '34 à 42', '1620: en entier', '1 à 13', '1623 : 3, 5, 7, 9', '1627 ter :', '2, 3, 4', '1629 : 19 bis, 40 à 54, 45 à', '57', '1631 : 11, 13, 14, 16', '1634 : 2', '1635 : 2', '1636 : 1,', '2 à 10', '1641 : 78', '1646 : 15, 17 „', '1648 : 1, 3, 5, 7, 8, 12, 14, 25', '27, 29, 31, 33, 49 bis, 51', '40. 42, 44', '1655 : 4, 5 49, 53, 55', '1662 : 4, 12 1, 3', '1665 : en entier', '2, 4, 6', '1668 : 1 à 9', '1673 :', '12, 13, 21, 29, 33, 35, 37, 39, 41,', '43, 45', '1674 : 7', '1675 : 16 bis', '1678 : 12, 14', '1679 : 42, 44, 46 48', '1682 : 1, 2, 3', '1691 : 31, 33, 46', '1693 : 17, 20', '1695 :', '12 à 20, 43, 46, 48', '1697 : en', 'entier', '1698 : 21', '1700 : 2, 6 8, 10', '1702 : 4, 4 bis, 33', '1705 : 1, 2, 3, 4', '1714 : 2, 4', '1716 : 2', '1717 : 1, 2, 3, 4, 6', '1718 : 2, 3, 4, 5, 6, 8, 10', '1720 : 10, 12', '1721 : 7, 9, 11, 13 .', '1724 : 2, 4', '1728 : 1, 3, 7, 9, 23, 25, 27 „', '1731 : 45 à 57', '1732 : 1, 2, 2 bis, 2', '1734 : 14, 16, 18, 20', '1739 : 2, 4. 6, 13, 15', '1740 : 24, 26, 28', '1749 : 91 bis, 106, 112', '114, 136', '1751 : en entier', '1752 : 17, 19', '1753 : 2', '1756 : 1 à 15,', '2, 4', '1757 : 2', '1760 : 1, 34, 36', '1761 : 43, 45 à 53', '1763 : 2, 4, 6', '1764 : 9, 24, 26', '1765 : sans', '1768 : 44 bis, 66, 71, 72, 73,', '75, 100 bis, 102, 104, 140 à 146', '1772 : 2, 4, 6', '1773 : en entier', '1774 i 1', '13, 2 à 12', '1778 : 2, 17', '1779 : 1, 3, 5', '1780 : 6, 8. 10', '1781 : 2, 4, 6, 8, 10', '1782 : 17, 19', '1783 : en entier', '1786 : 5, 7', '1795 : sans numéro', '1797 : 2, 4, 6, 8, 10', '1798 : 1 2, 3, 4', '1799 : 1, 3, 5, 7', '1800 :', '1 à 7, 2 à 6', '1801 : 10', '1804 : 1, 2, 6, 35, 37', '1806 : 12, 14, 38 51', '1807 : 4, 6, 8', '1811 : 2, 4', '1812 : 8, 13, 15', '1816 : 2', '1817 : 10', '1818 : 20 26, 28', '1819 : 11, 13', '1822 : 171, 173, 175', '1826 : 61 .', '1833 : 1, 13, 15, 17,', '23, 24, 25, 26, 28', '1834 : 4, 6', '1835 : 1 à 7, 2 à 6', '1836 : 3, 4', '1839 : 10', '1842 : 2, 27, 32, 33', '1843 : 15', '1844 : 18, 20, 33 à 39', '1845 : 12 à 24', '1851 : 63', '1852 : 62, 63, 64', '1862 : 11, 27, 28, 29', '30', '1864 : 18 à 36', '1867 : 2', '1869 : 11, 13, 15', '1871 : 2, 4', '1875 : 4 à 28, 5 à 29', '1876 : 15, 17, 19, 21, 27', '1878 : 14', '1879 : 1 à 11, 2, 4', '1880 : 2, 3, 4', '1882 : sans numéro', '1883 :', '1 à 13', '1885 : 1 à 5', '1893 : 2', '1896 : 2, 3, 4, 5, 7, 9', '1897 :', '1, 2 à 32, 3, 48 à 82, 86', '1905 : 14, 16, 25, 49', '1906 : 2, 12, 22 41', '1912 : 1 à 21, 2 à 22', '1915 :', 'entier', '1918 : en entier', '1921 : 2, 4', '1923 : 1 à 23, 39 à 49', '1929 : 19', '1930 : 28', '1934 : 11 „', '1935 : 11, 13, 15', '1937 : 14, 16, 17, 18, 19, 21', '1939 :', '1941 : 2, 7', '1942 : 2', '1948 :', '1951 : 4, 5, 6', '1952 : 2, 4, 6', '1953 : 10', '1956 : 3', '1958 : 17', '1959 : 44, 54, 58, 60', '65', '1962 : côté', '1964 :', '4 à 22, 29, 96, 98, 103, 140 à 148,', '149 à 153, 229 à 239', '1966 : 6, 12', '1968 : 24, 26', '1971 : 24, 26, 55, 57', '1972 : 2, 9', '1973 : 12, 14, 16, 18, 23', '1974 : 82 à 90, 98 à', '112, 219, 221', '1981 : 1 à 7, 2 à 10', '1982 : 9, 22', '1983 : 22, 31, 38', '1985 : en entier', '1986 : 1, 3, 4', '5, 10, 14, 16, 18 - 1988 : sans', '2 à 10', '1989 : 2', '1995 :', 'entier', '1996 : 28', '1999 : 43, 74', '2000 : 9, 11, 15, 17', '2001 : côté', '20.10 : 21, 31, 33', '2012 :', '7 à 15', '2016 : 1 à 9, 2 à 8', '2018 : 11, 26, 28, 30, 32', '2020 .', '18, 19 à 53, 46 bis', '2021 : 2 à', '14', '2025 : 1 à 11', '2028 : 82, 83', '2029 : 1 à 13, 2 à 12', '2032 : en', 'entier', '2033 : en entier', '2034 :', '1 à 23, 76, 77 à 83, 125 à 131,', '178, 180', '2035 : 6, 8', '2039 : 1, 2, 3, 4, 5', '2040 : 3', '2043 : 3, 4', '2045 : 12 à 38, 52 à 60, 69', '75', '2047 : 3, 5', '2048 : 5', '2049 : 1 à 3, 2 à 32', '2051 : 5, 19, 21, 23, 25, 35', '2053 : 11 et', '2060 : 1 à 15, 2', '12', '2061 : en entier', '2063 :', '3 à 11', '2066 : 1, 2', '2067 : 1 à 27,', '46, 56', '2069 : en entier', '2075 : 15, 17', '2078 : 1, 3', '2079 : 1, 3, 47, 49', '2081 : 2 à 12', '2082 : 7, 18, 20', '2085 : 92', '2089 : 1 à 9,', '2 à 18', '2090 : 1, 2, 3, 4, 5, 6', '2091 : 2, 12, 14, 16', '2093 : 7', '2095 : 2, 4', '2096 : 5, 9, 13 .', '2097 : en entier', '2100 : 5 „', '2102 : 44, 46, 48, 121', '2103 :', '2108 : 79', '2110 : 1, 3', '2111 : 2, 4, 10', '2112 : 33, 35, 51', '2121 : 1, 3', '2123 : 1, 2, 3, 5', '2124 : 1, 2', '2127 : en entier', '2129 : 2 à 10', '2130 : 2 à 30, 99', '2133 : 16, 17, 18, 19, 20', '37', '2134 : 2', '2135 : 2', '2136 : 5, 28', '2146 : 1, 2, 4', '2148 : 6', '2149 : 1, 3, 12, 14, 16, 38, 49, 51', '81, 100 à 114, 111', '2152 : 36, 51,', '2153 : 11', '2154 :', '1, 3, 5, 2 à 32, 15 à 25, 40, 42 „', '2155 : 3 à 15', '2156 : entière', '2158 : 45, 47, 54 à 62', '2160 : 2', '2162 : 1 à 19, 2 à 34, 44', '52, 168', '2164 : 16, 108, 132', '2168 :', '1 à 35', '2169 : 1, 2, 3, 5, 6, 7, 8,', '9, 11, 13', '2173 : 7', '2178 : 12 à', '28', '2182 : 2, 8', '2185 : entière', '2187 : 12', '2189 : 7', '2202 : 2, 4, 6', '2203 : 23, 34, 36', '2204 : 11 .', '2208 : 3', '2212 : 1, 2, 3, 4', '2213 : 2, 3, 4, 5, 6, 8, 9, 11, 12', '2215 : 1, 3, 5', '2217 : 1, 3, 5, 7,', '9', '2218 : 1, 3, 5, 7, 9', '2223 : 24, 26, 28, 30', '2225 : 1, 2, 3, 4,', '6, 8', '2227 : 13', '2228 : 110, 112', '114, 118, 120', '2230 : 1, 3, 3 bis 25, 27, 45, 83, 86 bis, 88', '2231 : 10', '2235 : entière', '2236 : 66 à 86', '2237 : 21', '2242 : 29', '2243 : 2, 4, 6', '2244 : 27, 29', '2246 : 7, 9, 11', '2247 : 36', '2248 : 2, 4, 6', '2249 : 1, 2, 3, 4,', '5, 6, 7, 8, 13, 15, 17, 19', '2254 : 2, 4, 6, 71, 73', '2256 : 41, 43, 45 bis, 46, 48, 50', '2260 : 12 à', '25, 41 à 59, 122, 124, 157', '2268 : 3, 9', '2272 : en entier', '2273 : 17, 19', '2274 : 1, 3', '2277 :', '2 à 14', '2278 :', '22 à 26', '2279 : entière', '2286 :', '2287 : 71, 73', '2292 : 7, 9, 11, 13', '2293 : 12 à 22', '2295 : 1, 28, 30, 36', '2296 : 1, 2, 3, 4', '2299 : 2, 4, 6,', '7, 8, 9, 10, 11, 12, 13, 14, 15, 16,', '17, 18, 20', '2302 : en entier', '2303 : 4, 9, 10, 11', '2306 : 48', '2307 : 11', '2309 : 20, 29, 31, 33 „', '2312 : côté', '2317 : 10', '2318 : 13, 44', '2319 : 67 à 95, 72', '100', '2325 : 11, 13, 15', '2326 :', '64, 66, 76 à 84, 90, 92, 94, 111, 127 à', '159. 144, 169', '2333 : 8, 10', '2335 : 1, 4, 7, 9', '2337 : 1 à 105, 2 à 12,', '50 à 90', '2338 : 4, 5, 6, 7, 9, 11,', '13', '2342 : 1, 1 bis', '2344 : 3 à', '11, 8 à 20', '2345 : 2', '2346 :', '2348 : 1 à 13, 20 à 42', '2352 : 1 à 43,', '2358 : 10, 12, 14, 14 bis, 21', '2359 : 22, 24', '2362 : 1, 2, 3, 4, 5, 7, 9 „11,', '6 à 18', '2364 : 2, 4, 6', '2365 : 39', '2372 : 1 à 15', '2374 : 3 bis', '167, 172 à 178 bis', '2375 : 1', '2379 : 40, 41, 42, 108', '2380 :', 'entier', '2381 : sans numéro', '2382 : 2, 17, 21, 22, 23, 24, 26, 28', '2386 : 11', '2387 : 10', '2394 : 2, 4, 16 à', '50 bis', '2398 : 2, 4, 6', '2402 : 1, 7, 8, 26', '2403 : en entier', '2406 : 2, 4, 6, 7', '2409 : 6, 10, 16', '2416 :', '33 à 41, 85 à 105', '2417 : 1, 3, 5,', '41 à 51, 173, 193, 195', '2419 : 11 „', '2422 : 33, 35', '2426 : 2, 4, 6, 8 „', '2427 : 5, 7, 9, 11 -', '2429 : 2 à 12,', '3, 5, 7, 9, 11. 15, 19', '2433 : 8, 33', '2434 : 5, 7', '2439 :', '1 à 13,', '2440 : 6', '2443 : 1', '2445 : 4, 53 70', '2446 :', '12, 14, 44, 46, 87 à 93 inclus', '111, 187 à 211 inclus', '2447 : 15', '2448 : 8 à 20, 27 à 33', '2450 :', '1 à 9, 2 à 10', '2456 : 1 à 9', '2460 : 104, 106', '2461 : 1 à 11 .', '2464 : 1, 3, 5, 7', '2466 : 1 à 13']' of field nveaux_cod has been truncated to 254 characters.  This warning will not be emitted any more for that layer.\n",
            "  ogr_write(\n",
            "<ipython-input-83-fb6094304331>:2: UserWarning: Column names longer than 10 characters will be truncated when saved to ESRI Shapefile.\n",
            "  gdf_1898_clusters.to_file('gdf_1898_clusters.shp')\n",
            "/usr/local/lib/python3.11/dist-packages/pyogrio/raw.py:723: RuntimeWarning: Normalized/laundered field name: 'proprio[global]' to 'proprio[gl'\n",
            "  ogr_write(\n",
            "/usr/local/lib/python3.11/dist-packages/pyogrio/raw.py:723: RuntimeWarning: Normalized/laundered field name: 'statut_femme' to 'statut_fem'\n",
            "  ogr_write(\n",
            "/usr/local/lib/python3.11/dist-packages/pyogrio/raw.py:723: RuntimeWarning: Normalized/laundered field name: 'proprio_titre*' to 'proprio_ti'\n",
            "  ogr_write(\n",
            "/usr/local/lib/python3.11/dist-packages/pyogrio/raw.py:723: RuntimeWarning: Normalized/laundered field name: 'proprio_particule*' to 'proprio_pa'\n",
            "  ogr_write(\n",
            "/usr/local/lib/python3.11/dist-packages/pyogrio/raw.py:723: RuntimeWarning: Normalized/laundered field name: 'proprio_name*' to 'proprio_na'\n",
            "  ogr_write(\n",
            "/usr/local/lib/python3.11/dist-packages/pyogrio/raw.py:723: RuntimeWarning: Normalized/laundered field name: 'proprio_numAd' to 'proprio_nu'\n",
            "  ogr_write(\n",
            "/usr/local/lib/python3.11/dist-packages/pyogrio/raw.py:723: RuntimeWarning: Normalized/laundered field name: 'commune_propio' to 'commune_pr'\n",
            "  ogr_write(\n",
            "/usr/local/lib/python3.11/dist-packages/pyogrio/raw.py:723: RuntimeWarning: Normalized/laundered field name: 'proprio_region*' to 'proprio_re'\n",
            "  ogr_write(\n",
            "/usr/local/lib/python3.11/dist-packages/pyogrio/raw.py:723: RuntimeWarning: Normalized/laundered field name: 'same_place*' to 'same_place'\n",
            "  ogr_write(\n",
            "/usr/local/lib/python3.11/dist-packages/pyogrio/raw.py:723: RuntimeWarning: Normalized/laundered field name: 'commentaire' to 'commentair'\n",
            "  ogr_write(\n",
            "/usr/local/lib/python3.11/dist-packages/pyogrio/raw.py:723: RuntimeWarning: Normalized/laundered field name: 'source_prop' to 'source_pro'\n",
            "  ogr_write(\n"
          ]
        }
      ]
    }
  ]
}